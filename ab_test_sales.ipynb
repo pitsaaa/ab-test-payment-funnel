{
 "cells": [
  {
   "cell_type": "markdown",
   "id": "ea7e670e-5926-4138-9f5f-2f28ce030b79",
   "metadata": {},
   "source": [
    "# Анализ результатов A/B теста новой платежной воронки"
   ]
  },
  {
   "cell_type": "markdown",
   "id": "0606ef89-451b-49f1-b498-2135ded9235e",
   "metadata": {},
   "source": [
    "## Введение"
   ]
  },
  {
   "cell_type": "markdown",
   "id": "8cd7876f-e92a-4988-8071-8591d85edda7",
   "metadata": {},
   "source": [
    "В данном исследовании рассматриваются **результаты A/B тестирования** новой платежной воронки с целью анализа поведения пользователей и оценки влияния изменений на ключевые метрики.\n",
    "\n",
    "Полученные результаты помогут определить, насколько предложенные улучшения положительно сказываются на конверсии, пользовательском опыте и общем качестве взаимодействия с платежной системой, что поможет принять решение о применении изменений."
   ]
  },
  {
   "cell_type": "markdown",
   "id": "191c4680-3114-456b-903f-3f7661600d33",
   "metadata": {},
   "source": [
    "## Описание данных\n",
    "\n",
    "**ab_participants.csv** - таблицы с участниками теста\n",
    "\n",
    "- user_id - id пользователя\n",
    "- group - какой группе принадлежит пользователь\n",
    "- ab_test - в каком тесте пользователь участвует\n",
    "\n",
    "**ab_events.csv** - таблица с маркетинговыми событиями\n",
    "- name - название события\n",
    "- regions - регионы, в которых событие проводилось\n",
    "- start_dt - дата начала события\n",
    "- finish_dt - дата окончания события\n",
    "\n",
    "**ab_new_users.csv** - таблица с новыми пользователями\n",
    "- user_id - id пользователя\n",
    "- first_date - дата добавления пользователя в тест\n",
    "- region - регион пользователя\n",
    "- device - с какого устройства была регистрация\n",
    "\n",
    "**final_ab_events.csv** - таблица с действиями новых пользователей\n",
    "- user_id - id пользователя\n",
    "- event_dt - дата события\n",
    "- event_name - тип действия\n",
    "- details - дополнительные данные, если действием является покупка, то здесь хранится стоимость покупки"
   ]
  },
  {
   "cell_type": "markdown",
   "id": "b71c2d31-6146-4dc0-bbcc-94caee934ee9",
   "metadata": {},
   "source": [
    "## Постановка задачи\n",
    "\n",
    "Необходимо проанализировать итоги теста **recommender_system_test**. <br>\n",
    "**Группа A** - контрольная, **B** - тестовая (новая платежная воронка). <br>\n",
    "**Дата запуска**: 07-12-2020. **Дата остановки набора новых пользователей**: 21-12-2020 **Дата окончания**: 04-01-2021. <br>\n",
    "**Аудитория** - EU <br>\n",
    "**Ожидаемое количество участников** - 6000. <br>\n",
    "**Ожидаемый эффект** - за 14 дней с момента регистрации пользователи покажут улучшение каждой метрики не менее, чем на 10%.<br>\n",
    "**Исследуемые метрики**:\n",
    "- конверсия в просмотр карточек - **product_page**\n",
    "- конверсия корзины - **product_cart**\n",
    "- покупки **purchase**"
   ]
  },
  {
   "cell_type": "markdown",
   "id": "d0183cf3-98cf-4186-8ba1-4fc079e065ae",
   "metadata": {},
   "source": [
    "## План работы\n",
    "<font size=\"4\"> <ol>\n",
    "   <li> Загрузка и предобработка данных </li>\n",
    "    <li> Проверка данных на соответсвие требованиям</li>\n",
    "    <li> Исследовательский анализ данных, визуализация</li>\n",
    "    <li> A/B тестирование. Использование статистических критериев для анализа результатов</li>\n",
    "    <li> Вывод </li></ol></font>"
   ]
  },
  {
   "cell_type": "markdown",
   "id": "821ddc0d-9952-4a6d-a83a-6b1f1d037629",
   "metadata": {},
   "source": [
    "## Загрузка и предобработка данных"
   ]
  },
  {
   "cell_type": "code",
   "execution_count": 151,
   "id": "108e9941-d808-42ce-9911-951434e5fbd9",
   "metadata": {},
   "outputs": [],
   "source": [
    "# Импорт библиотек\n",
    "import numpy as np\n",
    "import pandas as pd\n",
    "import seaborn as sns\n",
    "import matplotlib.pyplot as plt\n",
    "from IPython.display import display\n",
    "import plotly.graph_objects as go\n",
    "from statsmodels.stats.proportion import proportions_ztest\n",
    "\n",
    "from scipy import stats\n",
    "import statsmodels as sts\n",
    "\n",
    "plt.style.use('seaborn-v0_8-deep')\n",
    "%matplotlib inline\n",
    "pd.options.display.max_columns = 20"
   ]
  },
  {
   "cell_type": "code",
   "execution_count": 152,
   "id": "fe8bf2de-48bc-4236-ab46-ec5072e78b89",
   "metadata": {},
   "outputs": [],
   "source": [
    "import warnings\n",
    "warnings.filterwarnings('ignore')"
   ]
  },
  {
   "cell_type": "markdown",
   "id": "28c2d70d-1539-4399-a35a-4d7f27eeaf50",
   "metadata": {},
   "source": [
    "Загрузим таблицы"
   ]
  },
  {
   "cell_type": "code",
   "execution_count": 153,
   "id": "81f311bd-7556-4b1f-bd4a-88e86db28afc",
   "metadata": {},
   "outputs": [],
   "source": [
    "ab_events = pd.read_csv('data/ab_events.csv')\n",
    "ab_new_users = pd.read_csv('data/ab_new_users.csv')\n",
    "ab_participants = pd.read_csv('data/ab_participants.csv')\n",
    "final_ab_events = pd.read_csv('data/final_ab_events.csv')"
   ]
  },
  {
   "cell_type": "markdown",
   "id": "b35b9a24-2035-4c80-be98-278ddce9dec6",
   "metadata": {},
   "source": [
    "Посмотрим на данные и выведем основную информацию о каждом датасете"
   ]
  },
  {
   "cell_type": "markdown",
   "id": "8bd96d31-b3bf-48de-a1ef-5abc0eb23597",
   "metadata": {},
   "source": [
    "**ab_events**"
   ]
  },
  {
   "cell_type": "code",
   "execution_count": 154,
   "id": "152ac2c3-6d86-4b56-b8fc-8c4aed5ba1d0",
   "metadata": {},
   "outputs": [
    {
     "data": {
      "text/html": [
       "<div>\n",
       "<style scoped>\n",
       "    .dataframe tbody tr th:only-of-type {\n",
       "        vertical-align: middle;\n",
       "    }\n",
       "\n",
       "    .dataframe tbody tr th {\n",
       "        vertical-align: top;\n",
       "    }\n",
       "\n",
       "    .dataframe thead th {\n",
       "        text-align: right;\n",
       "    }\n",
       "</style>\n",
       "<table border=\"1\" class=\"dataframe\">\n",
       "  <thead>\n",
       "    <tr style=\"text-align: right;\">\n",
       "      <th></th>\n",
       "      <th>name</th>\n",
       "      <th>regions</th>\n",
       "      <th>start_dt</th>\n",
       "      <th>finish_dt</th>\n",
       "    </tr>\n",
       "  </thead>\n",
       "  <tbody>\n",
       "    <tr>\n",
       "      <th>0</th>\n",
       "      <td>Christmas&amp;New Year Promo</td>\n",
       "      <td>EU, N.America</td>\n",
       "      <td>2020-12-25</td>\n",
       "      <td>2021-01-03</td>\n",
       "    </tr>\n",
       "    <tr>\n",
       "      <th>1</th>\n",
       "      <td>St. Valentine's Day Giveaway</td>\n",
       "      <td>EU, CIS, APAC, N.America</td>\n",
       "      <td>2020-02-14</td>\n",
       "      <td>2020-02-16</td>\n",
       "    </tr>\n",
       "    <tr>\n",
       "      <th>2</th>\n",
       "      <td>St. Patric's Day Promo</td>\n",
       "      <td>EU, N.America</td>\n",
       "      <td>2020-03-17</td>\n",
       "      <td>2020-03-19</td>\n",
       "    </tr>\n",
       "    <tr>\n",
       "      <th>3</th>\n",
       "      <td>Easter Promo</td>\n",
       "      <td>EU, CIS, APAC, N.America</td>\n",
       "      <td>2020-04-12</td>\n",
       "      <td>2020-04-19</td>\n",
       "    </tr>\n",
       "    <tr>\n",
       "      <th>4</th>\n",
       "      <td>4th of July Promo</td>\n",
       "      <td>N.America</td>\n",
       "      <td>2020-07-04</td>\n",
       "      <td>2020-07-11</td>\n",
       "    </tr>\n",
       "  </tbody>\n",
       "</table>\n",
       "</div>"
      ],
      "text/plain": [
       "                           name                   regions    start_dt  \\\n",
       "0      Christmas&New Year Promo             EU, N.America  2020-12-25   \n",
       "1  St. Valentine's Day Giveaway  EU, CIS, APAC, N.America  2020-02-14   \n",
       "2        St. Patric's Day Promo             EU, N.America  2020-03-17   \n",
       "3                  Easter Promo  EU, CIS, APAC, N.America  2020-04-12   \n",
       "4             4th of July Promo                 N.America  2020-07-04   \n",
       "\n",
       "    finish_dt  \n",
       "0  2021-01-03  \n",
       "1  2020-02-16  \n",
       "2  2020-03-19  \n",
       "3  2020-04-19  \n",
       "4  2020-07-11  "
      ]
     },
     "metadata": {},
     "output_type": "display_data"
    },
    {
     "name": "stdout",
     "output_type": "stream",
     "text": [
      "<class 'pandas.core.frame.DataFrame'>\n",
      "RangeIndex: 14 entries, 0 to 13\n",
      "Data columns (total 4 columns):\n",
      " #   Column     Non-Null Count  Dtype \n",
      "---  ------     --------------  ----- \n",
      " 0   name       14 non-null     object\n",
      " 1   regions    14 non-null     object\n",
      " 2   start_dt   14 non-null     object\n",
      " 3   finish_dt  14 non-null     object\n",
      "dtypes: object(4)\n",
      "memory usage: 580.0+ bytes\n"
     ]
    }
   ],
   "source": [
    "display(ab_events.head())\n",
    "ab_events.info()"
   ]
  },
  {
   "cell_type": "markdown",
   "id": "4415da9b-bffc-4e5f-85b0-d61947115b55",
   "metadata": {},
   "source": [
    "**ab_new_users**"
   ]
  },
  {
   "cell_type": "code",
   "execution_count": 155,
   "id": "40ec9eaa-a03d-475c-bf81-0ccbd699e518",
   "metadata": {},
   "outputs": [
    {
     "data": {
      "text/html": [
       "<div>\n",
       "<style scoped>\n",
       "    .dataframe tbody tr th:only-of-type {\n",
       "        vertical-align: middle;\n",
       "    }\n",
       "\n",
       "    .dataframe tbody tr th {\n",
       "        vertical-align: top;\n",
       "    }\n",
       "\n",
       "    .dataframe thead th {\n",
       "        text-align: right;\n",
       "    }\n",
       "</style>\n",
       "<table border=\"1\" class=\"dataframe\">\n",
       "  <thead>\n",
       "    <tr style=\"text-align: right;\">\n",
       "      <th></th>\n",
       "      <th>user_id</th>\n",
       "      <th>first_date</th>\n",
       "      <th>region</th>\n",
       "      <th>device</th>\n",
       "    </tr>\n",
       "  </thead>\n",
       "  <tbody>\n",
       "    <tr>\n",
       "      <th>0</th>\n",
       "      <td>D72A72121175D8BE</td>\n",
       "      <td>2020-12-07</td>\n",
       "      <td>EU</td>\n",
       "      <td>PC</td>\n",
       "    </tr>\n",
       "    <tr>\n",
       "      <th>1</th>\n",
       "      <td>F1C668619DFE6E65</td>\n",
       "      <td>2020-12-07</td>\n",
       "      <td>N.America</td>\n",
       "      <td>Android</td>\n",
       "    </tr>\n",
       "    <tr>\n",
       "      <th>2</th>\n",
       "      <td>2E1BF1D4C37EA01F</td>\n",
       "      <td>2020-12-07</td>\n",
       "      <td>EU</td>\n",
       "      <td>PC</td>\n",
       "    </tr>\n",
       "    <tr>\n",
       "      <th>3</th>\n",
       "      <td>50734A22C0C63768</td>\n",
       "      <td>2020-12-07</td>\n",
       "      <td>EU</td>\n",
       "      <td>iPhone</td>\n",
       "    </tr>\n",
       "    <tr>\n",
       "      <th>4</th>\n",
       "      <td>E1BDDCE0DAFA2679</td>\n",
       "      <td>2020-12-07</td>\n",
       "      <td>N.America</td>\n",
       "      <td>iPhone</td>\n",
       "    </tr>\n",
       "  </tbody>\n",
       "</table>\n",
       "</div>"
      ],
      "text/plain": [
       "            user_id  first_date     region   device\n",
       "0  D72A72121175D8BE  2020-12-07         EU       PC\n",
       "1  F1C668619DFE6E65  2020-12-07  N.America  Android\n",
       "2  2E1BF1D4C37EA01F  2020-12-07         EU       PC\n",
       "3  50734A22C0C63768  2020-12-07         EU   iPhone\n",
       "4  E1BDDCE0DAFA2679  2020-12-07  N.America   iPhone"
      ]
     },
     "metadata": {},
     "output_type": "display_data"
    },
    {
     "name": "stdout",
     "output_type": "stream",
     "text": [
      "<class 'pandas.core.frame.DataFrame'>\n",
      "RangeIndex: 61733 entries, 0 to 61732\n",
      "Data columns (total 4 columns):\n",
      " #   Column      Non-Null Count  Dtype \n",
      "---  ------      --------------  ----- \n",
      " 0   user_id     61733 non-null  object\n",
      " 1   first_date  61733 non-null  object\n",
      " 2   region      61733 non-null  object\n",
      " 3   device      61733 non-null  object\n",
      "dtypes: object(4)\n",
      "memory usage: 1.9+ MB\n"
     ]
    }
   ],
   "source": [
    "display(ab_new_users.head())\n",
    "ab_new_users.info()"
   ]
  },
  {
   "cell_type": "markdown",
   "id": "34a95eb7-6a80-46a5-979a-0d6d1501ce88",
   "metadata": {},
   "source": [
    "**ab_participants**"
   ]
  },
  {
   "cell_type": "code",
   "execution_count": 156,
   "id": "b23d90c2-ba51-4e7b-8702-4211362915aa",
   "metadata": {},
   "outputs": [
    {
     "data": {
      "text/html": [
       "<div>\n",
       "<style scoped>\n",
       "    .dataframe tbody tr th:only-of-type {\n",
       "        vertical-align: middle;\n",
       "    }\n",
       "\n",
       "    .dataframe tbody tr th {\n",
       "        vertical-align: top;\n",
       "    }\n",
       "\n",
       "    .dataframe thead th {\n",
       "        text-align: right;\n",
       "    }\n",
       "</style>\n",
       "<table border=\"1\" class=\"dataframe\">\n",
       "  <thead>\n",
       "    <tr style=\"text-align: right;\">\n",
       "      <th></th>\n",
       "      <th>user_id</th>\n",
       "      <th>group</th>\n",
       "      <th>ab_test</th>\n",
       "    </tr>\n",
       "  </thead>\n",
       "  <tbody>\n",
       "    <tr>\n",
       "      <th>0</th>\n",
       "      <td>D1ABA3E2887B6A73</td>\n",
       "      <td>A</td>\n",
       "      <td>recommender_system_test</td>\n",
       "    </tr>\n",
       "    <tr>\n",
       "      <th>1</th>\n",
       "      <td>A7A3664BD6242119</td>\n",
       "      <td>A</td>\n",
       "      <td>recommender_system_test</td>\n",
       "    </tr>\n",
       "    <tr>\n",
       "      <th>2</th>\n",
       "      <td>DABC14FDDFADD29E</td>\n",
       "      <td>A</td>\n",
       "      <td>recommender_system_test</td>\n",
       "    </tr>\n",
       "    <tr>\n",
       "      <th>3</th>\n",
       "      <td>04988C5DF189632E</td>\n",
       "      <td>A</td>\n",
       "      <td>recommender_system_test</td>\n",
       "    </tr>\n",
       "    <tr>\n",
       "      <th>4</th>\n",
       "      <td>482F14783456D21B</td>\n",
       "      <td>B</td>\n",
       "      <td>recommender_system_test</td>\n",
       "    </tr>\n",
       "  </tbody>\n",
       "</table>\n",
       "</div>"
      ],
      "text/plain": [
       "            user_id group                  ab_test\n",
       "0  D1ABA3E2887B6A73     A  recommender_system_test\n",
       "1  A7A3664BD6242119     A  recommender_system_test\n",
       "2  DABC14FDDFADD29E     A  recommender_system_test\n",
       "3  04988C5DF189632E     A  recommender_system_test\n",
       "4  482F14783456D21B     B  recommender_system_test"
      ]
     },
     "metadata": {},
     "output_type": "display_data"
    },
    {
     "name": "stdout",
     "output_type": "stream",
     "text": [
      "<class 'pandas.core.frame.DataFrame'>\n",
      "RangeIndex: 18268 entries, 0 to 18267\n",
      "Data columns (total 3 columns):\n",
      " #   Column   Non-Null Count  Dtype \n",
      "---  ------   --------------  ----- \n",
      " 0   user_id  18268 non-null  object\n",
      " 1   group    18268 non-null  object\n",
      " 2   ab_test  18268 non-null  object\n",
      "dtypes: object(3)\n",
      "memory usage: 428.3+ KB\n"
     ]
    }
   ],
   "source": [
    "display(ab_participants.head())\n",
    "ab_participants.info()"
   ]
  },
  {
   "cell_type": "markdown",
   "id": "e0479bd7-5865-453c-98d0-aef934a0f202",
   "metadata": {},
   "source": [
    "**final_ab_events**"
   ]
  },
  {
   "cell_type": "code",
   "execution_count": 157,
   "id": "4a0fa123-0fbd-4725-a908-1c4da3f9a497",
   "metadata": {},
   "outputs": [
    {
     "data": {
      "text/html": [
       "<div>\n",
       "<style scoped>\n",
       "    .dataframe tbody tr th:only-of-type {\n",
       "        vertical-align: middle;\n",
       "    }\n",
       "\n",
       "    .dataframe tbody tr th {\n",
       "        vertical-align: top;\n",
       "    }\n",
       "\n",
       "    .dataframe thead th {\n",
       "        text-align: right;\n",
       "    }\n",
       "</style>\n",
       "<table border=\"1\" class=\"dataframe\">\n",
       "  <thead>\n",
       "    <tr style=\"text-align: right;\">\n",
       "      <th></th>\n",
       "      <th>user_id</th>\n",
       "      <th>event_dt</th>\n",
       "      <th>event_name</th>\n",
       "      <th>details</th>\n",
       "    </tr>\n",
       "  </thead>\n",
       "  <tbody>\n",
       "    <tr>\n",
       "      <th>0</th>\n",
       "      <td>E1BDDCE0DAFA2679</td>\n",
       "      <td>2020-12-07 20:22:03</td>\n",
       "      <td>purchase</td>\n",
       "      <td>99.99</td>\n",
       "    </tr>\n",
       "    <tr>\n",
       "      <th>1</th>\n",
       "      <td>7B6452F081F49504</td>\n",
       "      <td>2020-12-07 09:22:53</td>\n",
       "      <td>purchase</td>\n",
       "      <td>9.99</td>\n",
       "    </tr>\n",
       "    <tr>\n",
       "      <th>2</th>\n",
       "      <td>9CD9F34546DF254C</td>\n",
       "      <td>2020-12-07 12:59:29</td>\n",
       "      <td>purchase</td>\n",
       "      <td>4.99</td>\n",
       "    </tr>\n",
       "    <tr>\n",
       "      <th>3</th>\n",
       "      <td>96F27A054B191457</td>\n",
       "      <td>2020-12-07 04:02:40</td>\n",
       "      <td>purchase</td>\n",
       "      <td>4.99</td>\n",
       "    </tr>\n",
       "    <tr>\n",
       "      <th>4</th>\n",
       "      <td>1FD7660FDF94CA1F</td>\n",
       "      <td>2020-12-07 10:15:09</td>\n",
       "      <td>purchase</td>\n",
       "      <td>4.99</td>\n",
       "    </tr>\n",
       "  </tbody>\n",
       "</table>\n",
       "</div>"
      ],
      "text/plain": [
       "            user_id             event_dt event_name  details\n",
       "0  E1BDDCE0DAFA2679  2020-12-07 20:22:03   purchase    99.99\n",
       "1  7B6452F081F49504  2020-12-07 09:22:53   purchase     9.99\n",
       "2  9CD9F34546DF254C  2020-12-07 12:59:29   purchase     4.99\n",
       "3  96F27A054B191457  2020-12-07 04:02:40   purchase     4.99\n",
       "4  1FD7660FDF94CA1F  2020-12-07 10:15:09   purchase     4.99"
      ]
     },
     "metadata": {},
     "output_type": "display_data"
    },
    {
     "name": "stdout",
     "output_type": "stream",
     "text": [
      "<class 'pandas.core.frame.DataFrame'>\n",
      "RangeIndex: 440317 entries, 0 to 440316\n",
      "Data columns (total 4 columns):\n",
      " #   Column      Non-Null Count   Dtype  \n",
      "---  ------      --------------   -----  \n",
      " 0   user_id     440317 non-null  object \n",
      " 1   event_dt    440317 non-null  object \n",
      " 2   event_name  440317 non-null  object \n",
      " 3   details     62740 non-null   float64\n",
      "dtypes: float64(1), object(3)\n",
      "memory usage: 13.4+ MB\n"
     ]
    }
   ],
   "source": [
    "display(final_ab_events.head())\n",
    "final_ab_events.info()"
   ]
  },
  {
   "cell_type": "markdown",
   "id": "981dfb44-8c63-4cf0-9bc2-6db2162a731f",
   "metadata": {},
   "source": [
    "Как мы видим во всех датасетах, кроме **final_ab_events** нет пропущенных значений. В таблице **final_ab_events** пропущенные значения встречаются только в столбце `details`, но как говорилось выше в этом столбце значения присутсвуют только для строк, означающих покупку, поэтому эти пропуски можно никак не обрабатывать"
   ]
  },
  {
   "cell_type": "markdown",
   "id": "4dc47677-ae6c-4576-8a3c-747371d23d84",
   "metadata": {},
   "source": [
    "Проверим данные на наличие дубликатов"
   ]
  },
  {
   "cell_type": "code",
   "execution_count": 158,
   "id": "1d966e0d-7f2c-44b5-a79e-4b0c9f66cbb3",
   "metadata": {},
   "outputs": [],
   "source": [
    "def dupl_check(df:pd.DataFrame) -> None:\n",
    "    print('Количество дубликатов в таблице:')\n",
    "    print(df.duplicated().sum())"
   ]
  },
  {
   "cell_type": "code",
   "execution_count": 159,
   "id": "b4284462-cd72-420e-909d-2ee45cddc16b",
   "metadata": {},
   "outputs": [
    {
     "name": "stdout",
     "output_type": "stream",
     "text": [
      "ab_events\n",
      "Количество дубликатов в таблице:\n",
      "0\n"
     ]
    }
   ],
   "source": [
    "print('ab_events')\n",
    "dupl_check(ab_events)"
   ]
  },
  {
   "cell_type": "code",
   "execution_count": 160,
   "id": "b6785db7-e61c-4d44-92ce-4241eb16af75",
   "metadata": {},
   "outputs": [
    {
     "name": "stdout",
     "output_type": "stream",
     "text": [
      "ab_new_users\n",
      "Количество дубликатов в таблице:\n",
      "0\n"
     ]
    }
   ],
   "source": [
    "print('ab_new_users')\n",
    "dupl_check(ab_new_users)"
   ]
  },
  {
   "cell_type": "code",
   "execution_count": 161,
   "id": "83e7141c-b04f-4d24-9992-a9b7d3d61649",
   "metadata": {},
   "outputs": [
    {
     "name": "stdout",
     "output_type": "stream",
     "text": [
      "ab_participants\n",
      "Количество дубликатов в таблице:\n",
      "0\n"
     ]
    }
   ],
   "source": [
    "print('ab_participants')\n",
    "dupl_check(ab_participants)"
   ]
  },
  {
   "cell_type": "code",
   "execution_count": 162,
   "id": "aa8e5ebd-ee64-4264-946b-8f03d07a478e",
   "metadata": {},
   "outputs": [
    {
     "name": "stdout",
     "output_type": "stream",
     "text": [
      "final_ab_events\n",
      "Количество дубликатов в таблице:\n",
      "0\n"
     ]
    }
   ],
   "source": [
    "print('final_ab_events')\n",
    "dupl_check(final_ab_events)"
   ]
  },
  {
   "cell_type": "markdown",
   "id": "390ac58b-ac07-41c3-8cc0-919a6d7caf3b",
   "metadata": {},
   "source": [
    "В данных не обнаружилось дубликатов"
   ]
  },
  {
   "cell_type": "markdown",
   "id": "adb6b97e-3701-45ca-b75c-d9683b0f9368",
   "metadata": {},
   "source": [
    "**Преобразуем столбцы к нужным типам данных**"
   ]
  },
  {
   "cell_type": "markdown",
   "id": "39c27237-4e63-42f6-9333-993365168c2d",
   "metadata": {},
   "source": [
    "Во всех таблицах столбцы с датами имеют тип `object`, приведем к типу `datetime`"
   ]
  },
  {
   "cell_type": "code",
   "execution_count": 163,
   "id": "91a3d43b-caf4-439f-a33d-11aaf32d9ad5",
   "metadata": {},
   "outputs": [
    {
     "data": {
      "text/plain": [
       "Index(['name', 'regions', 'start_dt', 'finish_dt'], dtype='object')"
      ]
     },
     "execution_count": 163,
     "metadata": {},
     "output_type": "execute_result"
    }
   ],
   "source": [
    "ab_events.columns"
   ]
  },
  {
   "cell_type": "code",
   "execution_count": 164,
   "id": "711cafa5-8b51-480d-b775-afb83295807d",
   "metadata": {},
   "outputs": [
    {
     "data": {
      "text/html": [
       "<div>\n",
       "<style scoped>\n",
       "    .dataframe tbody tr th:only-of-type {\n",
       "        vertical-align: middle;\n",
       "    }\n",
       "\n",
       "    .dataframe tbody tr th {\n",
       "        vertical-align: top;\n",
       "    }\n",
       "\n",
       "    .dataframe thead th {\n",
       "        text-align: right;\n",
       "    }\n",
       "</style>\n",
       "<table border=\"1\" class=\"dataframe\">\n",
       "  <thead>\n",
       "    <tr style=\"text-align: right;\">\n",
       "      <th></th>\n",
       "      <th>name</th>\n",
       "      <th>regions</th>\n",
       "      <th>start_dt</th>\n",
       "      <th>finish_dt</th>\n",
       "    </tr>\n",
       "  </thead>\n",
       "  <tbody>\n",
       "    <tr>\n",
       "      <th>0</th>\n",
       "      <td>Christmas&amp;New Year Promo</td>\n",
       "      <td>EU, N.America</td>\n",
       "      <td>2020-12-25</td>\n",
       "      <td>2021-01-03</td>\n",
       "    </tr>\n",
       "  </tbody>\n",
       "</table>\n",
       "</div>"
      ],
      "text/plain": [
       "                       name        regions    start_dt   finish_dt\n",
       "0  Christmas&New Year Promo  EU, N.America  2020-12-25  2021-01-03"
      ]
     },
     "execution_count": 164,
     "metadata": {},
     "output_type": "execute_result"
    }
   ],
   "source": [
    "ab_events.head(1)"
   ]
  },
  {
   "cell_type": "code",
   "execution_count": 165,
   "id": "956190b4-49b6-442b-afdf-2f4bb42d3357",
   "metadata": {},
   "outputs": [],
   "source": [
    "ab_events['start_dt'] = pd.to_datetime(ab_events['start_dt'], format = '%Y-%m-%d')\n",
    "ab_events['finish_dt'] = pd.to_datetime(ab_events['finish_dt'], format = '%Y-%m-%d')"
   ]
  },
  {
   "cell_type": "code",
   "execution_count": 166,
   "id": "e2ad0ade-9383-40e3-87d1-19faf14ce865",
   "metadata": {},
   "outputs": [
    {
     "data": {
      "text/html": [
       "<div>\n",
       "<style scoped>\n",
       "    .dataframe tbody tr th:only-of-type {\n",
       "        vertical-align: middle;\n",
       "    }\n",
       "\n",
       "    .dataframe tbody tr th {\n",
       "        vertical-align: top;\n",
       "    }\n",
       "\n",
       "    .dataframe thead th {\n",
       "        text-align: right;\n",
       "    }\n",
       "</style>\n",
       "<table border=\"1\" class=\"dataframe\">\n",
       "  <thead>\n",
       "    <tr style=\"text-align: right;\">\n",
       "      <th></th>\n",
       "      <th>user_id</th>\n",
       "      <th>first_date</th>\n",
       "      <th>region</th>\n",
       "      <th>device</th>\n",
       "    </tr>\n",
       "  </thead>\n",
       "  <tbody>\n",
       "    <tr>\n",
       "      <th>0</th>\n",
       "      <td>D72A72121175D8BE</td>\n",
       "      <td>2020-12-07</td>\n",
       "      <td>EU</td>\n",
       "      <td>PC</td>\n",
       "    </tr>\n",
       "  </tbody>\n",
       "</table>\n",
       "</div>"
      ],
      "text/plain": [
       "            user_id  first_date region device\n",
       "0  D72A72121175D8BE  2020-12-07     EU     PC"
      ]
     },
     "execution_count": 166,
     "metadata": {},
     "output_type": "execute_result"
    }
   ],
   "source": [
    "ab_new_users.head(1)"
   ]
  },
  {
   "cell_type": "code",
   "execution_count": 167,
   "id": "338977b2-29d7-425b-beb5-d2335aa48d07",
   "metadata": {},
   "outputs": [],
   "source": [
    "ab_new_users['first_date'] = pd.to_datetime(ab_new_users['first_date'], format = '%Y-%m-%d')"
   ]
  },
  {
   "cell_type": "code",
   "execution_count": 168,
   "id": "05be7f93-2434-4e16-9754-c9e490581187",
   "metadata": {},
   "outputs": [
    {
     "data": {
      "text/html": [
       "<div>\n",
       "<style scoped>\n",
       "    .dataframe tbody tr th:only-of-type {\n",
       "        vertical-align: middle;\n",
       "    }\n",
       "\n",
       "    .dataframe tbody tr th {\n",
       "        vertical-align: top;\n",
       "    }\n",
       "\n",
       "    .dataframe thead th {\n",
       "        text-align: right;\n",
       "    }\n",
       "</style>\n",
       "<table border=\"1\" class=\"dataframe\">\n",
       "  <thead>\n",
       "    <tr style=\"text-align: right;\">\n",
       "      <th></th>\n",
       "      <th>user_id</th>\n",
       "      <th>event_dt</th>\n",
       "      <th>event_name</th>\n",
       "      <th>details</th>\n",
       "    </tr>\n",
       "  </thead>\n",
       "  <tbody>\n",
       "    <tr>\n",
       "      <th>0</th>\n",
       "      <td>E1BDDCE0DAFA2679</td>\n",
       "      <td>2020-12-07 20:22:03</td>\n",
       "      <td>purchase</td>\n",
       "      <td>99.99</td>\n",
       "    </tr>\n",
       "  </tbody>\n",
       "</table>\n",
       "</div>"
      ],
      "text/plain": [
       "            user_id             event_dt event_name  details\n",
       "0  E1BDDCE0DAFA2679  2020-12-07 20:22:03   purchase    99.99"
      ]
     },
     "execution_count": 168,
     "metadata": {},
     "output_type": "execute_result"
    }
   ],
   "source": [
    "final_ab_events.head(1)"
   ]
  },
  {
   "cell_type": "code",
   "execution_count": 169,
   "id": "f49db352-3450-47a6-946a-0145bc379046",
   "metadata": {},
   "outputs": [],
   "source": [
    "final_ab_events['event_dt'] = pd.to_datetime(final_ab_events['event_dt'], format = '%Y-%m-%d %H:%M:%S')"
   ]
  },
  {
   "cell_type": "code",
   "execution_count": 170,
   "id": "3b1855db-a8c4-487e-b34f-d13e2083e250",
   "metadata": {},
   "outputs": [
    {
     "name": "stdout",
     "output_type": "stream",
     "text": [
      "<class 'pandas.core.frame.DataFrame'>\n",
      "RangeIndex: 14 entries, 0 to 13\n",
      "Data columns (total 4 columns):\n",
      " #   Column     Non-Null Count  Dtype         \n",
      "---  ------     --------------  -----         \n",
      " 0   name       14 non-null     object        \n",
      " 1   regions    14 non-null     object        \n",
      " 2   start_dt   14 non-null     datetime64[ns]\n",
      " 3   finish_dt  14 non-null     datetime64[ns]\n",
      "dtypes: datetime64[ns](2), object(2)\n",
      "memory usage: 580.0+ bytes\n"
     ]
    },
    {
     "data": {
      "text/plain": [
       "None"
      ]
     },
     "metadata": {},
     "output_type": "display_data"
    },
    {
     "name": "stdout",
     "output_type": "stream",
     "text": [
      "<class 'pandas.core.frame.DataFrame'>\n",
      "RangeIndex: 61733 entries, 0 to 61732\n",
      "Data columns (total 4 columns):\n",
      " #   Column      Non-Null Count  Dtype         \n",
      "---  ------      --------------  -----         \n",
      " 0   user_id     61733 non-null  object        \n",
      " 1   first_date  61733 non-null  datetime64[ns]\n",
      " 2   region      61733 non-null  object        \n",
      " 3   device      61733 non-null  object        \n",
      "dtypes: datetime64[ns](1), object(3)\n",
      "memory usage: 1.9+ MB\n"
     ]
    },
    {
     "data": {
      "text/plain": [
       "None"
      ]
     },
     "metadata": {},
     "output_type": "display_data"
    },
    {
     "name": "stdout",
     "output_type": "stream",
     "text": [
      "<class 'pandas.core.frame.DataFrame'>\n",
      "RangeIndex: 440317 entries, 0 to 440316\n",
      "Data columns (total 4 columns):\n",
      " #   Column      Non-Null Count   Dtype         \n",
      "---  ------      --------------   -----         \n",
      " 0   user_id     440317 non-null  object        \n",
      " 1   event_dt    440317 non-null  datetime64[ns]\n",
      " 2   event_name  440317 non-null  object        \n",
      " 3   details     62740 non-null   float64       \n",
      "dtypes: datetime64[ns](1), float64(1), object(2)\n",
      "memory usage: 13.4+ MB\n"
     ]
    },
    {
     "data": {
      "text/plain": [
       "None"
      ]
     },
     "metadata": {},
     "output_type": "display_data"
    }
   ],
   "source": [
    "display(ab_events.info())\n",
    "display(ab_new_users.info())\n",
    "display(final_ab_events.info())"
   ]
  },
  {
   "cell_type": "markdown",
   "id": "7ce740c8-096d-4511-95c3-6c5191e3aca0",
   "metadata": {},
   "source": [
    "<div style=\"border:solid black 4px; padding: 10px\">\n",
    "    \n",
    "Мы загрузили и предобработали данные. <br> Убедились что в данных нет дубликатов, объяснили содержащиеся в таблице **final_ab_events** нулевые значения. <br>Преобразовали столбцы, содержащие дату и время к нужному типу данных\n",
    "\n",
    "</div>"
   ]
  },
  {
   "cell_type": "markdown",
   "id": "cdc3dae1-8e2f-4e68-9d58-c6048185953a",
   "metadata": {},
   "source": [
    "## Проверка данных на соответсвие требованиям теста"
   ]
  },
  {
   "cell_type": "markdown",
   "id": "e3f46b13-df23-4ab3-a716-bf816d15c2d3",
   "metadata": {},
   "source": [
    "Сначала посмотрим в каких тестах учавствовали пользователи из таблицы `ab_participants`"
   ]
  },
  {
   "cell_type": "code",
   "execution_count": 171,
   "id": "3446d4a2-0f22-4fc8-a44f-88ae4032e2fa",
   "metadata": {},
   "outputs": [
    {
     "data": {
      "text/plain": [
       "array(['recommender_system_test', 'interface_eu_test'], dtype=object)"
      ]
     },
     "execution_count": 171,
     "metadata": {},
     "output_type": "execute_result"
    }
   ],
   "source": [
    "ab_participants.ab_test.unique()"
   ]
  },
  {
   "cell_type": "markdown",
   "id": "9b1a7325-14c9-4aa0-a242-555f6f63a895",
   "metadata": {},
   "source": [
    "Есть ли пользователи, которые учавствуют в двух тестах сразу"
   ]
  },
  {
   "cell_type": "code",
   "execution_count": 172,
   "id": "83d982ee-ad9d-4779-add0-e69c39f44226",
   "metadata": {},
   "outputs": [
    {
     "data": {
      "text/plain": [
       "1602"
      ]
     },
     "execution_count": 172,
     "metadata": {},
     "output_type": "execute_result"
    }
   ],
   "source": [
    "ab_participants['user_id'].duplicated().sum()"
   ]
  },
  {
   "cell_type": "markdown",
   "id": "72308474-0614-4b56-a2c7-b7ede2ac29e8",
   "metadata": {},
   "source": [
    "1602 пользователя учавствовали в тесте *interface_eu_test* и *recommender_system_test* <br>\n",
    "Проверим, как распределены пользователи по группам в тесте *recommender_system_test*, которые учавствовали сразу в двух тестах"
   ]
  },
  {
   "cell_type": "code",
   "execution_count": 173,
   "id": "d1dbf48f-d898-4052-98da-4ad84a1c5301",
   "metadata": {},
   "outputs": [
    {
     "data": {
      "text/plain": [
       "group\n",
       "A    439\n",
       "B    344\n",
       "Name: count, dtype: int64"
      ]
     },
     "execution_count": 173,
     "metadata": {},
     "output_type": "execute_result"
    }
   ],
   "source": [
    "(ab_participants[ab_participants['user_id'].isin\\\n",
    "(ab_participants[(ab_participants['ab_test'] == 'interface_eu_test') & (ab_participants['group'] == 'B')]['user_id'].values)])\\\n",
    ".query('ab_test == \"recommender_system_test\"')['group'].value_counts()"
   ]
  },
  {
   "cell_type": "code",
   "execution_count": 174,
   "id": "d1e43e44-07ea-45b1-84f1-a1518690e5e1",
   "metadata": {},
   "outputs": [
    {
     "data": {
      "text/plain": [
       "group\n",
       "A    3824\n",
       "B    2877\n",
       "Name: count, dtype: int64"
      ]
     },
     "execution_count": 174,
     "metadata": {},
     "output_type": "execute_result"
    }
   ],
   "source": [
    "ab_participants[ab_participants.ab_test == 'recommender_system_test'].group.value_counts()"
   ]
  },
  {
   "cell_type": "code",
   "execution_count": 175,
   "id": "73f26d1c-24b3-4f2a-b971-73e47126bb3c",
   "metadata": {},
   "outputs": [
    {
     "name": "stdout",
     "output_type": "stream",
     "text": [
      "0.4393358876117497 0.42933890464109836\n"
     ]
    }
   ],
   "source": [
    "print(344/(344+439), 2877/(2877+3824))"
   ]
  },
  {
   "cell_type": "markdown",
   "id": "ed737ba9-1327-45b9-8181-02cc0cffcccd",
   "metadata": {},
   "source": [
    "Распределение пользователей, которые учавстовали в тесте *interface_eu_test* в группе B в нашем рассматриваемом тесте *recommender_system_test* близко к распределению всех пользователей в тесте *recommender_system_test*. Это означает что *interface_eu_test* имел одинаковое влияние на обе группы в нашем наблюдаемом тесте, а значит не должен как-либо исказить результаты"
   ]
  },
  {
   "cell_type": "markdown",
   "id": "4ff07e7a-d613-4312-bb19-79e2f56c793b",
   "metadata": {},
   "source": [
    "Отфильтруем данные только для рассматриваемого теста"
   ]
  },
  {
   "cell_type": "code",
   "execution_count": 176,
   "id": "6d22c791-635d-4361-a92e-1785d2b2396d",
   "metadata": {},
   "outputs": [],
   "source": [
    "ab_participants = ab_participants[ab_participants.ab_test == 'recommender_system_test']"
   ]
  },
  {
   "cell_type": "markdown",
   "id": "d38dd74f-f371-47c6-8216-906bf98a6c05",
   "metadata": {},
   "source": [
    "Дата запуска теста: 07-12-2020, Дата окончания: 04-01-2021. <br> Проверим проводились ли в это время какие-то маркетинговые компании, которые могли повлиять на результат тест"
   ]
  },
  {
   "cell_type": "code",
   "execution_count": 177,
   "id": "4029fa12-fe4f-41a8-acfe-4df45abfa989",
   "metadata": {},
   "outputs": [
    {
     "data": {
      "text/plain": [
       "array(['A', 'B'], dtype=object)"
      ]
     },
     "execution_count": 177,
     "metadata": {},
     "output_type": "execute_result"
    }
   ],
   "source": [
    "# Проверим корректность групп пользователей\n",
    "ab_participants.group.unique()"
   ]
  },
  {
   "cell_type": "code",
   "execution_count": 178,
   "id": "eb593c4e-c9f9-4cf5-9077-393c8011387a",
   "metadata": {},
   "outputs": [
    {
     "data": {
      "text/html": [
       "<div>\n",
       "<style scoped>\n",
       "    .dataframe tbody tr th:only-of-type {\n",
       "        vertical-align: middle;\n",
       "    }\n",
       "\n",
       "    .dataframe tbody tr th {\n",
       "        vertical-align: top;\n",
       "    }\n",
       "\n",
       "    .dataframe thead th {\n",
       "        text-align: right;\n",
       "    }\n",
       "</style>\n",
       "<table border=\"1\" class=\"dataframe\">\n",
       "  <thead>\n",
       "    <tr style=\"text-align: right;\">\n",
       "      <th></th>\n",
       "      <th>name</th>\n",
       "      <th>regions</th>\n",
       "      <th>start_dt</th>\n",
       "      <th>finish_dt</th>\n",
       "    </tr>\n",
       "  </thead>\n",
       "  <tbody>\n",
       "    <tr>\n",
       "      <th>0</th>\n",
       "      <td>Christmas&amp;New Year Promo</td>\n",
       "      <td>EU, N.America</td>\n",
       "      <td>2020-12-25</td>\n",
       "      <td>2021-01-03</td>\n",
       "    </tr>\n",
       "    <tr>\n",
       "      <th>10</th>\n",
       "      <td>CIS New Year Gift Lottery</td>\n",
       "      <td>CIS</td>\n",
       "      <td>2020-12-30</td>\n",
       "      <td>2021-01-07</td>\n",
       "    </tr>\n",
       "  </tbody>\n",
       "</table>\n",
       "</div>"
      ],
      "text/plain": [
       "                         name        regions   start_dt  finish_dt\n",
       "0    Christmas&New Year Promo  EU, N.America 2020-12-25 2021-01-03\n",
       "10  CIS New Year Gift Lottery            CIS 2020-12-30 2021-01-07"
      ]
     },
     "execution_count": 178,
     "metadata": {},
     "output_type": "execute_result"
    }
   ],
   "source": [
    "ab_events.query('finish_dt >= \"2020-12-07\" or start_dt >= \"2020-12-07\"')"
   ]
  },
  {
   "cell_type": "markdown",
   "id": "15c257b3-e255-4c36-99de-aaee5b0150fe",
   "metadata": {},
   "source": [
    "Как мы видим параллельно нашему тесту также проводились две маркетинговые компании. <br>\n",
    "Это стоит учитывать при принятии решений на основе A/B теста"
   ]
  },
  {
   "cell_type": "code",
   "execution_count": 179,
   "id": "644879b5-2073-4a72-9ed2-106c69801530",
   "metadata": {},
   "outputs": [
    {
     "data": {
      "text/html": [
       "<div>\n",
       "<style scoped>\n",
       "    .dataframe tbody tr th:only-of-type {\n",
       "        vertical-align: middle;\n",
       "    }\n",
       "\n",
       "    .dataframe tbody tr th {\n",
       "        vertical-align: top;\n",
       "    }\n",
       "\n",
       "    .dataframe thead th {\n",
       "        text-align: right;\n",
       "    }\n",
       "</style>\n",
       "<table border=\"1\" class=\"dataframe\">\n",
       "  <thead>\n",
       "    <tr style=\"text-align: right;\">\n",
       "      <th></th>\n",
       "      <th>user_id</th>\n",
       "      <th>first_date</th>\n",
       "      <th>region</th>\n",
       "      <th>device</th>\n",
       "    </tr>\n",
       "  </thead>\n",
       "  <tbody>\n",
       "    <tr>\n",
       "      <th>0</th>\n",
       "      <td>D72A72121175D8BE</td>\n",
       "      <td>2020-12-07</td>\n",
       "      <td>EU</td>\n",
       "      <td>PC</td>\n",
       "    </tr>\n",
       "    <tr>\n",
       "      <th>1</th>\n",
       "      <td>F1C668619DFE6E65</td>\n",
       "      <td>2020-12-07</td>\n",
       "      <td>N.America</td>\n",
       "      <td>Android</td>\n",
       "    </tr>\n",
       "    <tr>\n",
       "      <th>2</th>\n",
       "      <td>2E1BF1D4C37EA01F</td>\n",
       "      <td>2020-12-07</td>\n",
       "      <td>EU</td>\n",
       "      <td>PC</td>\n",
       "    </tr>\n",
       "  </tbody>\n",
       "</table>\n",
       "</div>"
      ],
      "text/plain": [
       "            user_id first_date     region   device\n",
       "0  D72A72121175D8BE 2020-12-07         EU       PC\n",
       "1  F1C668619DFE6E65 2020-12-07  N.America  Android\n",
       "2  2E1BF1D4C37EA01F 2020-12-07         EU       PC"
      ]
     },
     "execution_count": 179,
     "metadata": {},
     "output_type": "execute_result"
    }
   ],
   "source": [
    "ab_new_users.head(3)"
   ]
  },
  {
   "cell_type": "markdown",
   "id": "4e25c870-4ba7-4999-a509-5c858b82bedc",
   "metadata": {},
   "source": [
    "Проверим, соотвуствуют ли даты регистрации новых пользователей указанным требованиям"
   ]
  },
  {
   "cell_type": "code",
   "execution_count": 180,
   "id": "076ee0ae-707f-4012-a524-88b87c91965a",
   "metadata": {},
   "outputs": [
    {
     "name": "stdout",
     "output_type": "stream",
     "text": [
      "Самая ранняя регистрация:  2020-12-07 00:00:00\n",
      "Самая поздняя регистрация:  2020-12-23 00:00:00\n"
     ]
    }
   ],
   "source": [
    "print('Самая ранняя регистрация: ', ab_new_users.first_date.min())\n",
    "print('Самая поздняя регистрация: ', ab_new_users.first_date.max())"
   ]
  },
  {
   "cell_type": "markdown",
   "id": "5901f651-3d75-4815-966d-a38f83bea707",
   "metadata": {},
   "source": [
    "Согласно требованиям дата остановки набора пользователей - 2020-12-21 <br>\n",
    "Уберем записи не подходящие под это ограничение"
   ]
  },
  {
   "cell_type": "code",
   "execution_count": 181,
   "id": "7106a324-d38a-4fc1-81c5-2f03f5b6e6b8",
   "metadata": {},
   "outputs": [],
   "source": [
    "ab_new_users = ab_new_users[ab_new_users.first_date <= '2020-12-21']"
   ]
  },
  {
   "cell_type": "code",
   "execution_count": 182,
   "id": "525e0947-31d5-4f85-82f5-34d06d671ef7",
   "metadata": {},
   "outputs": [
    {
     "name": "stdout",
     "output_type": "stream",
     "text": [
      "Самая ранняя регистрация:  2020-12-07 00:00:00\n",
      "Самая поздняя регистрация:  2020-12-21 00:00:00\n"
     ]
    }
   ],
   "source": [
    "print('Самая ранняя регистрация: ', ab_new_users.first_date.min())\n",
    "print('Самая поздняя регистрация: ', ab_new_users.first_date.max())"
   ]
  },
  {
   "cell_type": "markdown",
   "id": "4ad81e70-ec65-468e-86d5-df5072dddf9a",
   "metadata": {},
   "source": [
    "Теперь отсортируем аудиторию по региону, в требования указано, что в данном случае рассматриваем только аудиторию из Европы"
   ]
  },
  {
   "cell_type": "code",
   "execution_count": 183,
   "id": "5c358275-3e1c-4473-bd73-c9b3d52d87cf",
   "metadata": {},
   "outputs": [
    {
     "data": {
      "text/plain": [
       "region\n",
       "EU           42340\n",
       "N.America     8347\n",
       "CIS           2900\n",
       "APAC          2883\n",
       "Name: count, dtype: int64"
      ]
     },
     "execution_count": 183,
     "metadata": {},
     "output_type": "execute_result"
    }
   ],
   "source": [
    "ab_new_users.region.value_counts()"
   ]
  },
  {
   "cell_type": "code",
   "execution_count": 184,
   "id": "0352a471-9ad6-45af-906c-af521756a399",
   "metadata": {},
   "outputs": [],
   "source": [
    "ab_new_users = ab_new_users[ab_new_users.region == 'EU']"
   ]
  },
  {
   "cell_type": "markdown",
   "id": "a0179ec1-3545-40f1-9db7-8bd240693373",
   "metadata": {},
   "source": [
    "Объеденим таблицы в одну, с которой будем работать далее"
   ]
  },
  {
   "cell_type": "code",
   "execution_count": 185,
   "id": "472e544d-499c-467a-8df3-56ed55186776",
   "metadata": {},
   "outputs": [
    {
     "data": {
      "text/html": [
       "<div>\n",
       "<style scoped>\n",
       "    .dataframe tbody tr th:only-of-type {\n",
       "        vertical-align: middle;\n",
       "    }\n",
       "\n",
       "    .dataframe tbody tr th {\n",
       "        vertical-align: top;\n",
       "    }\n",
       "\n",
       "    .dataframe thead th {\n",
       "        text-align: right;\n",
       "    }\n",
       "</style>\n",
       "<table border=\"1\" class=\"dataframe\">\n",
       "  <thead>\n",
       "    <tr style=\"text-align: right;\">\n",
       "      <th></th>\n",
       "      <th>user_id</th>\n",
       "      <th>group</th>\n",
       "      <th>ab_test</th>\n",
       "      <th>first_date</th>\n",
       "      <th>region</th>\n",
       "      <th>device</th>\n",
       "      <th>event_dt</th>\n",
       "      <th>event_name</th>\n",
       "      <th>details</th>\n",
       "    </tr>\n",
       "  </thead>\n",
       "  <tbody>\n",
       "    <tr>\n",
       "      <th>0</th>\n",
       "      <td>D1ABA3E2887B6A73</td>\n",
       "      <td>A</td>\n",
       "      <td>recommender_system_test</td>\n",
       "      <td>2020-12-07</td>\n",
       "      <td>EU</td>\n",
       "      <td>PC</td>\n",
       "      <td>2020-12-07 14:43:27</td>\n",
       "      <td>purchase</td>\n",
       "      <td>99.99</td>\n",
       "    </tr>\n",
       "    <tr>\n",
       "      <th>1</th>\n",
       "      <td>D1ABA3E2887B6A73</td>\n",
       "      <td>A</td>\n",
       "      <td>recommender_system_test</td>\n",
       "      <td>2020-12-07</td>\n",
       "      <td>EU</td>\n",
       "      <td>PC</td>\n",
       "      <td>2020-12-25 00:04:56</td>\n",
       "      <td>purchase</td>\n",
       "      <td>4.99</td>\n",
       "    </tr>\n",
       "    <tr>\n",
       "      <th>2</th>\n",
       "      <td>D1ABA3E2887B6A73</td>\n",
       "      <td>A</td>\n",
       "      <td>recommender_system_test</td>\n",
       "      <td>2020-12-07</td>\n",
       "      <td>EU</td>\n",
       "      <td>PC</td>\n",
       "      <td>2020-12-07 14:43:29</td>\n",
       "      <td>product_cart</td>\n",
       "      <td>NaN</td>\n",
       "    </tr>\n",
       "    <tr>\n",
       "      <th>3</th>\n",
       "      <td>D1ABA3E2887B6A73</td>\n",
       "      <td>A</td>\n",
       "      <td>recommender_system_test</td>\n",
       "      <td>2020-12-07</td>\n",
       "      <td>EU</td>\n",
       "      <td>PC</td>\n",
       "      <td>2020-12-25 00:04:57</td>\n",
       "      <td>product_cart</td>\n",
       "      <td>NaN</td>\n",
       "    </tr>\n",
       "    <tr>\n",
       "      <th>4</th>\n",
       "      <td>D1ABA3E2887B6A73</td>\n",
       "      <td>A</td>\n",
       "      <td>recommender_system_test</td>\n",
       "      <td>2020-12-07</td>\n",
       "      <td>EU</td>\n",
       "      <td>PC</td>\n",
       "      <td>2020-12-07 14:43:27</td>\n",
       "      <td>product_page</td>\n",
       "      <td>NaN</td>\n",
       "    </tr>\n",
       "    <tr>\n",
       "      <th>...</th>\n",
       "      <td>...</td>\n",
       "      <td>...</td>\n",
       "      <td>...</td>\n",
       "      <td>...</td>\n",
       "      <td>...</td>\n",
       "      <td>...</td>\n",
       "      <td>...</td>\n",
       "      <td>...</td>\n",
       "      <td>...</td>\n",
       "    </tr>\n",
       "    <tr>\n",
       "      <th>26285</th>\n",
       "      <td>80712ED4EA1B52A5</td>\n",
       "      <td>A</td>\n",
       "      <td>recommender_system_test</td>\n",
       "      <td>2020-12-14</td>\n",
       "      <td>EU</td>\n",
       "      <td>Android</td>\n",
       "      <td>2020-12-15 20:10:06</td>\n",
       "      <td>product_page</td>\n",
       "      <td>NaN</td>\n",
       "    </tr>\n",
       "    <tr>\n",
       "      <th>26286</th>\n",
       "      <td>80712ED4EA1B52A5</td>\n",
       "      <td>A</td>\n",
       "      <td>recommender_system_test</td>\n",
       "      <td>2020-12-14</td>\n",
       "      <td>EU</td>\n",
       "      <td>Android</td>\n",
       "      <td>2020-12-20 20:01:34</td>\n",
       "      <td>product_page</td>\n",
       "      <td>NaN</td>\n",
       "    </tr>\n",
       "    <tr>\n",
       "      <th>26287</th>\n",
       "      <td>80712ED4EA1B52A5</td>\n",
       "      <td>A</td>\n",
       "      <td>recommender_system_test</td>\n",
       "      <td>2020-12-14</td>\n",
       "      <td>EU</td>\n",
       "      <td>Android</td>\n",
       "      <td>2020-12-14 05:48:50</td>\n",
       "      <td>login</td>\n",
       "      <td>NaN</td>\n",
       "    </tr>\n",
       "    <tr>\n",
       "      <th>26288</th>\n",
       "      <td>80712ED4EA1B52A5</td>\n",
       "      <td>A</td>\n",
       "      <td>recommender_system_test</td>\n",
       "      <td>2020-12-14</td>\n",
       "      <td>EU</td>\n",
       "      <td>Android</td>\n",
       "      <td>2020-12-15 20:10:03</td>\n",
       "      <td>login</td>\n",
       "      <td>NaN</td>\n",
       "    </tr>\n",
       "    <tr>\n",
       "      <th>26289</th>\n",
       "      <td>80712ED4EA1B52A5</td>\n",
       "      <td>A</td>\n",
       "      <td>recommender_system_test</td>\n",
       "      <td>2020-12-14</td>\n",
       "      <td>EU</td>\n",
       "      <td>Android</td>\n",
       "      <td>2020-12-20 20:01:32</td>\n",
       "      <td>login</td>\n",
       "      <td>NaN</td>\n",
       "    </tr>\n",
       "  </tbody>\n",
       "</table>\n",
       "<p>26290 rows × 9 columns</p>\n",
       "</div>"
      ],
      "text/plain": [
       "                user_id group                  ab_test first_date region  \\\n",
       "0      D1ABA3E2887B6A73     A  recommender_system_test 2020-12-07     EU   \n",
       "1      D1ABA3E2887B6A73     A  recommender_system_test 2020-12-07     EU   \n",
       "2      D1ABA3E2887B6A73     A  recommender_system_test 2020-12-07     EU   \n",
       "3      D1ABA3E2887B6A73     A  recommender_system_test 2020-12-07     EU   \n",
       "4      D1ABA3E2887B6A73     A  recommender_system_test 2020-12-07     EU   \n",
       "...                 ...   ...                      ...        ...    ...   \n",
       "26285  80712ED4EA1B52A5     A  recommender_system_test 2020-12-14     EU   \n",
       "26286  80712ED4EA1B52A5     A  recommender_system_test 2020-12-14     EU   \n",
       "26287  80712ED4EA1B52A5     A  recommender_system_test 2020-12-14     EU   \n",
       "26288  80712ED4EA1B52A5     A  recommender_system_test 2020-12-14     EU   \n",
       "26289  80712ED4EA1B52A5     A  recommender_system_test 2020-12-14     EU   \n",
       "\n",
       "        device            event_dt    event_name  details  \n",
       "0           PC 2020-12-07 14:43:27      purchase    99.99  \n",
       "1           PC 2020-12-25 00:04:56      purchase     4.99  \n",
       "2           PC 2020-12-07 14:43:29  product_cart      NaN  \n",
       "3           PC 2020-12-25 00:04:57  product_cart      NaN  \n",
       "4           PC 2020-12-07 14:43:27  product_page      NaN  \n",
       "...        ...                 ...           ...      ...  \n",
       "26285  Android 2020-12-15 20:10:06  product_page      NaN  \n",
       "26286  Android 2020-12-20 20:01:34  product_page      NaN  \n",
       "26287  Android 2020-12-14 05:48:50         login      NaN  \n",
       "26288  Android 2020-12-15 20:10:03         login      NaN  \n",
       "26289  Android 2020-12-20 20:01:32         login      NaN  \n",
       "\n",
       "[26290 rows x 9 columns]"
      ]
     },
     "execution_count": 185,
     "metadata": {},
     "output_type": "execute_result"
    }
   ],
   "source": [
    "merged = ab_participants.merge(ab_new_users, on = 'user_id')\n",
    "merged = merged.merge(final_ab_events, how = 'left', on = 'user_id')\n",
    "merged"
   ]
  },
  {
   "cell_type": "code",
   "execution_count": 186,
   "id": "ede835ce-57ab-4f17-b1f3-fd35a828db89",
   "metadata": {},
   "outputs": [
    {
     "data": {
      "text/plain": [
       "6351"
      ]
     },
     "execution_count": 186,
     "metadata": {},
     "output_type": "execute_result"
    }
   ],
   "source": [
    "# Сколько всего уникальных пользователей мы рассматриваем\n",
    "len(merged.user_id.unique())"
   ]
  },
  {
   "cell_type": "markdown",
   "id": "764b9f72-2b4c-4c0b-8c58-b41bbc26b087",
   "metadata": {},
   "source": [
    "Посмотрим на итоговое распределение пользователей по группам"
   ]
  },
  {
   "cell_type": "code",
   "execution_count": 187,
   "id": "f5977890-174b-42b1-b49d-ad476547c2c3",
   "metadata": {},
   "outputs": [
    {
     "name": "stdout",
     "output_type": "stream",
     "text": [
      "Пользователей попало в группу A: 3634 0.57\n",
      "Пользователей попало в группу B: 2717 0.43\n"
     ]
    }
   ],
   "source": [
    "print('Пользователей попало в группу A:', merged[merged.group == 'A'].user_id.nunique(), \\\n",
    "      round(merged[merged.group == 'A'].user_id.nunique()/len(merged.user_id.unique()), 2))\n",
    "print('Пользователей попало в группу B:', merged[merged.group == 'B'].user_id.nunique(),\\\n",
    "      round(merged[merged.group == 'B'].user_id.nunique()/len(merged.user_id.unique()), 2))"
   ]
  },
  {
   "cell_type": "markdown",
   "id": "c1399a55-a3f4-4c58-84cb-4f9391217f8c",
   "metadata": {},
   "source": [
    "Так как до этого мы отфильтровали датасеты по столбцам `ab_test` и `region`, то их можно удалить"
   ]
  },
  {
   "cell_type": "code",
   "execution_count": 188,
   "id": "633a75b0-43cd-444b-ae1f-a79b780d611b",
   "metadata": {},
   "outputs": [
    {
     "name": "stdout",
     "output_type": "stream",
     "text": [
      "['EU']\n",
      "['recommender_system_test']\n"
     ]
    }
   ],
   "source": [
    "print(merged.region.unique())\n",
    "print(merged.ab_test.unique())"
   ]
  },
  {
   "cell_type": "code",
   "execution_count": 189,
   "id": "8e1e8e40-99fd-4349-87d6-986e63fb2adc",
   "metadata": {},
   "outputs": [
    {
     "data": {
      "text/html": [
       "<div>\n",
       "<style scoped>\n",
       "    .dataframe tbody tr th:only-of-type {\n",
       "        vertical-align: middle;\n",
       "    }\n",
       "\n",
       "    .dataframe tbody tr th {\n",
       "        vertical-align: top;\n",
       "    }\n",
       "\n",
       "    .dataframe thead th {\n",
       "        text-align: right;\n",
       "    }\n",
       "</style>\n",
       "<table border=\"1\" class=\"dataframe\">\n",
       "  <thead>\n",
       "    <tr style=\"text-align: right;\">\n",
       "      <th></th>\n",
       "      <th>user_id</th>\n",
       "      <th>group</th>\n",
       "      <th>first_date</th>\n",
       "      <th>device</th>\n",
       "      <th>event_dt</th>\n",
       "      <th>event_name</th>\n",
       "      <th>details</th>\n",
       "    </tr>\n",
       "  </thead>\n",
       "  <tbody>\n",
       "    <tr>\n",
       "      <th>0</th>\n",
       "      <td>D1ABA3E2887B6A73</td>\n",
       "      <td>A</td>\n",
       "      <td>2020-12-07</td>\n",
       "      <td>PC</td>\n",
       "      <td>2020-12-07 14:43:27</td>\n",
       "      <td>purchase</td>\n",
       "      <td>99.99</td>\n",
       "    </tr>\n",
       "    <tr>\n",
       "      <th>1</th>\n",
       "      <td>D1ABA3E2887B6A73</td>\n",
       "      <td>A</td>\n",
       "      <td>2020-12-07</td>\n",
       "      <td>PC</td>\n",
       "      <td>2020-12-25 00:04:56</td>\n",
       "      <td>purchase</td>\n",
       "      <td>4.99</td>\n",
       "    </tr>\n",
       "    <tr>\n",
       "      <th>2</th>\n",
       "      <td>D1ABA3E2887B6A73</td>\n",
       "      <td>A</td>\n",
       "      <td>2020-12-07</td>\n",
       "      <td>PC</td>\n",
       "      <td>2020-12-07 14:43:29</td>\n",
       "      <td>product_cart</td>\n",
       "      <td>NaN</td>\n",
       "    </tr>\n",
       "    <tr>\n",
       "      <th>3</th>\n",
       "      <td>D1ABA3E2887B6A73</td>\n",
       "      <td>A</td>\n",
       "      <td>2020-12-07</td>\n",
       "      <td>PC</td>\n",
       "      <td>2020-12-25 00:04:57</td>\n",
       "      <td>product_cart</td>\n",
       "      <td>NaN</td>\n",
       "    </tr>\n",
       "    <tr>\n",
       "      <th>4</th>\n",
       "      <td>D1ABA3E2887B6A73</td>\n",
       "      <td>A</td>\n",
       "      <td>2020-12-07</td>\n",
       "      <td>PC</td>\n",
       "      <td>2020-12-07 14:43:27</td>\n",
       "      <td>product_page</td>\n",
       "      <td>NaN</td>\n",
       "    </tr>\n",
       "  </tbody>\n",
       "</table>\n",
       "</div>"
      ],
      "text/plain": [
       "            user_id group first_date device            event_dt    event_name  \\\n",
       "0  D1ABA3E2887B6A73     A 2020-12-07     PC 2020-12-07 14:43:27      purchase   \n",
       "1  D1ABA3E2887B6A73     A 2020-12-07     PC 2020-12-25 00:04:56      purchase   \n",
       "2  D1ABA3E2887B6A73     A 2020-12-07     PC 2020-12-07 14:43:29  product_cart   \n",
       "3  D1ABA3E2887B6A73     A 2020-12-07     PC 2020-12-25 00:04:57  product_cart   \n",
       "4  D1ABA3E2887B6A73     A 2020-12-07     PC 2020-12-07 14:43:27  product_page   \n",
       "\n",
       "   details  \n",
       "0    99.99  \n",
       "1     4.99  \n",
       "2      NaN  \n",
       "3      NaN  \n",
       "4      NaN  "
      ]
     },
     "execution_count": 189,
     "metadata": {},
     "output_type": "execute_result"
    }
   ],
   "source": [
    "df = merged\n",
    "df = df.drop(columns=['ab_test', 'region'], axis = 1)\n",
    "df.head(5)"
   ]
  },
  {
   "cell_type": "markdown",
   "id": "980d6b7d-6805-45d0-9f1d-47967bb1f374",
   "metadata": {},
   "source": [
    "<div style=\"border:solid black 4px; padding: 10px\">\n",
    "\n",
    "Мы отфильтровали данные по указанным требованиям <br>\n",
    "Удалили пользователей входившиъх только в конкурирующий тест **interface_eu_test** <br>\n",
    "Выяснили что пользователи, учавствовавшие в двух тестах распределены равномерно и маловероятно повлияют на результат теста <br>\n",
    "Убрали записи о пользователях, зарегистрировавшихся позднее указанной в требованиях дате <br>\n",
    "Отфильтровали пользователей по региону - оставили только Европу <br>\n",
    "Объединили три таблицы в одну, удалили ненужные столбцы\n",
    "</div>"
   ]
  },
  {
   "cell_type": "markdown",
   "id": "d4bc176b-a226-4774-a4fe-121f044abf40",
   "metadata": {},
   "source": [
    "## Исследовательский анализ данных"
   ]
  },
  {
   "cell_type": "markdown",
   "id": "1843c243-13a9-4220-a53e-61362fa9b146",
   "metadata": {},
   "source": [
    "Сначала посмотрим на то как набирали пользователей в тест"
   ]
  },
  {
   "cell_type": "code",
   "execution_count": 190,
   "id": "62400468-30b9-47ef-b015-f4ebb9d987a1",
   "metadata": {},
   "outputs": [
    {
     "data": {
      "text/html": [
       "<div>\n",
       "<style scoped>\n",
       "    .dataframe tbody tr th:only-of-type {\n",
       "        vertical-align: middle;\n",
       "    }\n",
       "\n",
       "    .dataframe tbody tr th {\n",
       "        vertical-align: top;\n",
       "    }\n",
       "\n",
       "    .dataframe thead th {\n",
       "        text-align: right;\n",
       "    }\n",
       "</style>\n",
       "<table border=\"1\" class=\"dataframe\">\n",
       "  <thead>\n",
       "    <tr style=\"text-align: right;\">\n",
       "      <th></th>\n",
       "      <th>first_date</th>\n",
       "      <th>group</th>\n",
       "      <th>user_id</th>\n",
       "    </tr>\n",
       "  </thead>\n",
       "  <tbody>\n",
       "    <tr>\n",
       "      <th>0</th>\n",
       "      <td>2020-12-07</td>\n",
       "      <td>A</td>\n",
       "      <td>349</td>\n",
       "    </tr>\n",
       "    <tr>\n",
       "      <th>1</th>\n",
       "      <td>2020-12-07</td>\n",
       "      <td>B</td>\n",
       "      <td>259</td>\n",
       "    </tr>\n",
       "    <tr>\n",
       "      <th>2</th>\n",
       "      <td>2020-12-08</td>\n",
       "      <td>A</td>\n",
       "      <td>186</td>\n",
       "    </tr>\n",
       "    <tr>\n",
       "      <th>3</th>\n",
       "      <td>2020-12-08</td>\n",
       "      <td>B</td>\n",
       "      <td>149</td>\n",
       "    </tr>\n",
       "    <tr>\n",
       "      <th>4</th>\n",
       "      <td>2020-12-09</td>\n",
       "      <td>A</td>\n",
       "      <td>143</td>\n",
       "    </tr>\n",
       "  </tbody>\n",
       "</table>\n",
       "</div>"
      ],
      "text/plain": [
       "  first_date group  user_id\n",
       "0 2020-12-07     A      349\n",
       "1 2020-12-07     B      259\n",
       "2 2020-12-08     A      186\n",
       "3 2020-12-08     B      149\n",
       "4 2020-12-09     A      143"
      ]
     },
     "execution_count": 190,
     "metadata": {},
     "output_type": "execute_result"
    }
   ],
   "source": [
    "regs = df.groupby(['user_id',  'group'], as_index = False)[['first_date']].min().sort_values('first_date')\n",
    "regs_byday = regs.groupby(['first_date', 'group'], as_index = False)['user_id'].count().sort_values('first_date')\n",
    "regs_byday.head(5)"
   ]
  },
  {
   "cell_type": "code",
   "execution_count": 191,
   "id": "b019cdca-9805-4252-bf72-ff7da4f260f8",
   "metadata": {},
   "outputs": [
    {
     "data": {
      "text/plain": [
       "Text(0, 0.5, 'Количество пользователей')"
      ]
     },
     "execution_count": 191,
     "metadata": {},
     "output_type": "execute_result"
    },
    {
     "data": {
      "image/png": "[encoded data removed]",
      "text/plain": [
       "<Figure size 1200x600 with 1 Axes>"
      ]
     },
     "metadata": {},
     "output_type": "display_data"
    }
   ],
   "source": [
    "fig = plt.figure(figsize = (12, 6))\n",
    "sns.barplot(data = regs_byday, x = 'first_date', y = 'user_id', hue = 'group', dodge = False)\n",
    "plt.gcf().autofmt_xdate()\n",
    "plt.xlabel('Дата добавления пользователей в тест', weight = 'bold')\n",
    "plt.ylabel('Количество пользователей', weight = 'bold')"
   ]
  },
  {
   "cell_type": "markdown",
   "id": "1027c6cc-3354-4d02-9fe9-94c84b0f9f96",
   "metadata": {},
   "source": [
    "На этом графике представлено **распределение количества добавлений пользователей по дням**. <br>\n",
    "Сильных отклонений в **отношении количества добавленных пользователей в группу B и группу A** в каждый отдельный день не замечено. Значит распределение пользователей по группам каждый день производилось равномерно"
   ]
  },
  {
   "cell_type": "markdown",
   "id": "c0d74d8d-4208-4d62-862f-59e28c36bc70",
   "metadata": {},
   "source": [
    "Теперь посмотрим на то, какие действия совершали пользователи на сайте"
   ]
  },
  {
   "cell_type": "code",
   "execution_count": 192,
   "id": "db5e4bca-7e9c-43c7-b695-56c033fd5dfc",
   "metadata": {},
   "outputs": [
    {
     "data": {
      "image/png": "[encoded data removed]",
      "text/plain": [
       "<Figure size 640x480 with 1 Axes>"
      ]
     },
     "metadata": {},
     "output_type": "display_data"
    }
   ],
   "source": [
    "order = df.event_name.value_counts().sort_values().index\n",
    "ax = sns.countplot(data = df, y = 'event_name', order = order)\n",
    "for p in ax.patches:\n",
    "    ax.annotate(f'{int(p.get_width())}', \n",
    "                (p.get_width()-700, p.get_y() + p.get_height() / 2.),\n",
    "                ha='center', va='center', \n",
    "                xytext=(5, 0), textcoords='offset points')\n",
    "plt.xlabel('Количество событий', weight = 'bold')\n",
    "plt.ylabel('Тип события', weight = 'bold');"
   ]
  },
  {
   "cell_type": "markdown",
   "id": "57b3c954-32a4-4fad-b0da-78d06b371cf9",
   "metadata": {},
   "source": [
    "Есть ли сильные различия в поведении двух групп?"
   ]
  },
  {
   "cell_type": "code",
   "execution_count": 193,
   "id": "77afcd21-32d4-4b6d-afab-625585d79516",
   "metadata": {},
   "outputs": [
    {
     "data": {
      "image/png": "[encoded data removed]",
      "text/plain": [
       "<Figure size 640x480 with 1 Axes>"
      ]
     },
     "metadata": {},
     "output_type": "display_data"
    }
   ],
   "source": [
    "sns.countplot(data = df, y = 'event_name', order = order, hue = 'group')\n",
    "plt.xlabel('Количество событий', weight = 'bold')\n",
    "plt.ylabel('Тип события', weight = 'bold');"
   ]
  },
  {
   "cell_type": "code",
   "execution_count": 194,
   "id": "34c251c3-37d2-4852-b03b-f940af4b3152",
   "metadata": {},
   "outputs": [
    {
     "data": {
      "text/plain": [
       "group\n",
       "A    3634\n",
       "B    2717\n",
       "Name: count, dtype: int64"
      ]
     },
     "execution_count": 194,
     "metadata": {},
     "output_type": "execute_result"
    }
   ],
   "source": [
    "(df.groupby('user_id', as_index = False)[['group']].min()).group.value_counts()"
   ]
  },
  {
   "cell_type": "markdown",
   "id": "05a4745e-3e89-4285-909a-e3cda8d607a6",
   "metadata": {},
   "source": [
    "Мы видим, что **пользователи из группы B намного меньше совершали действий на сайте**, чем пользователи из группы A. <br>\n",
    "Возможно это указывает на то, что пользователи новой платежной воронки быстрее доходили до покупки, а пользователи старой - наоборот многократно возвращались на сайт"
   ]
  },
  {
   "cell_type": "markdown",
   "id": "a7f8b35f-53fe-4797-8a8a-318fafd21e65",
   "metadata": {},
   "source": [
    "Возможно причина этого - девайсы, с которых пользователи разных групп использовали сайт"
   ]
  },
  {
   "cell_type": "code",
   "execution_count": 195,
   "id": "eac788b4-ea40-43ed-aad8-4b91c12a3000",
   "metadata": {},
   "outputs": [
    {
     "data": {
      "text/html": [
       "<div>\n",
       "<style scoped>\n",
       "    .dataframe tbody tr th:only-of-type {\n",
       "        vertical-align: middle;\n",
       "    }\n",
       "\n",
       "    .dataframe tbody tr th {\n",
       "        vertical-align: top;\n",
       "    }\n",
       "\n",
       "    .dataframe thead th {\n",
       "        text-align: right;\n",
       "    }\n",
       "</style>\n",
       "<table border=\"1\" class=\"dataframe\">\n",
       "  <thead>\n",
       "    <tr style=\"text-align: right;\">\n",
       "      <th></th>\n",
       "      <th>user_id</th>\n",
       "      <th>group</th>\n",
       "      <th>device</th>\n",
       "    </tr>\n",
       "  </thead>\n",
       "  <tbody>\n",
       "    <tr>\n",
       "      <th>0</th>\n",
       "      <td>000ABE35EE11412F</td>\n",
       "      <td>A</td>\n",
       "      <td>PC</td>\n",
       "    </tr>\n",
       "    <tr>\n",
       "      <th>1</th>\n",
       "      <td>001064FEAAB631A1</td>\n",
       "      <td>B</td>\n",
       "      <td>Android</td>\n",
       "    </tr>\n",
       "    <tr>\n",
       "      <th>2</th>\n",
       "      <td>0010A1C096941592</td>\n",
       "      <td>A</td>\n",
       "      <td>Android</td>\n",
       "    </tr>\n",
       "    <tr>\n",
       "      <th>3</th>\n",
       "      <td>001C05E87D336C59</td>\n",
       "      <td>A</td>\n",
       "      <td>iPhone</td>\n",
       "    </tr>\n",
       "    <tr>\n",
       "      <th>4</th>\n",
       "      <td>00341D8401F0F665</td>\n",
       "      <td>A</td>\n",
       "      <td>iPhone</td>\n",
       "    </tr>\n",
       "  </tbody>\n",
       "</table>\n",
       "</div>"
      ],
      "text/plain": [
       "            user_id group   device\n",
       "0  000ABE35EE11412F     A       PC\n",
       "1  001064FEAAB631A1     B  Android\n",
       "2  0010A1C096941592     A  Android\n",
       "3  001C05E87D336C59     A   iPhone\n",
       "4  00341D8401F0F665     A   iPhone"
      ]
     },
     "execution_count": 195,
     "metadata": {},
     "output_type": "execute_result"
    }
   ],
   "source": [
    "devices = df.groupby(['user_id', 'group'], as_index = False)['device'].min()\n",
    "devices.head(5)"
   ]
  },
  {
   "cell_type": "code",
   "execution_count": 196,
   "id": "df72896c-7cc3-4175-9476-18ea3b580e52",
   "metadata": {},
   "outputs": [
    {
     "data": {
      "image/png": "[encoded data removed]",
      "text/plain": [
       "<Figure size 640x480 with 1 Axes>"
      ]
     },
     "metadata": {},
     "output_type": "display_data"
    }
   ],
   "source": [
    "sns.countplot(data = devices, x = 'device', hue = 'group')\n",
    "plt.xlabel('Девайс', weight = 'bold')\n",
    "plt.ylabel('Количество пользователей', weight = 'bold');"
   ]
  },
  {
   "cell_type": "markdown",
   "id": "f5c781bb-1db2-429c-aa39-2c1e50b5b28d",
   "metadata": {},
   "source": [
    "Как видим, распределение пользователей различных групп по тому, с какого устройства они пользовались сайтом также равномерное"
   ]
  },
  {
   "cell_type": "markdown",
   "id": "25ad1e8f-736a-45e0-b7e7-a45e39031063",
   "metadata": {},
   "source": [
    "Проверим, как события распределены в двух группах по дням"
   ]
  },
  {
   "cell_type": "code",
   "execution_count": 197,
   "id": "22f09ab4-0adf-48e8-89a4-5b4a16782e37",
   "metadata": {},
   "outputs": [
    {
     "data": {
      "image/png": "[encoded data removed]",
      "text/plain": [
       "<Figure size 1200x600 with 1 Axes>"
      ]
     },
     "metadata": {},
     "output_type": "display_data"
    }
   ],
   "source": [
    "group_a = df[df.group == 'A']\n",
    "group_b = df[df.group == 'B']\n",
    "group_a['event_date'] = group_a['event_dt'].dt.date\n",
    "group_b['event_date'] = group_b['event_dt'].dt.date\n",
    "\n",
    "group_a = group_a.groupby('event_date')['event_name'].count()\n",
    "group_b = group_b.groupby('event_date')['event_name'].count()\n",
    "\n",
    "fig = plt.figure(figsize = (12, 6))\n",
    "\n",
    "sns.lineplot(group_a, label = 'A')\n",
    "sns.lineplot(group_b, label = 'B')\n",
    "plt.gcf().autofmt_xdate()\n",
    "plt.legend()\n",
    "plt.xlabel('Дата', weight = 'bold')\n",
    "plt.ylabel('Количество событий', weight = 'bold');"
   ]
  },
  {
   "cell_type": "markdown",
   "id": "3e4a91b0-1c67-44a1-8d2f-effb92311965",
   "metadata": {},
   "source": [
    "Здесь заметна **неравномерность** в количестве событий между двумя группами.\n",
    "\n",
    "Начиная с 13 декабря количество операций для группы А начало расти и достигло пика 21 декабря, после чего пошло на спад. <br>\n",
    "Количество событий в группе B до 21 декабря колебалось в диапазоне 200 - 300, после чего пошло на спад.\n",
    "\n",
    "Спад после 21 декабря можно объяснить тем, что после этого числа в обе группы больше не добавлялись новые пользователи. <br>\n",
    "Причину такого пика по количеству событий для группы А объяснить сложнее, одна из возможных версий: пользователи старой воронки долго не могли определиться с покупкой, возможно откладывали ее на потом, или просматривали большое количество разных товаров, добавляя их всех в корзину."
   ]
  },
  {
   "cell_type": "markdown",
   "id": "6e91481a-1c07-4721-a772-61b62f66fed4",
   "metadata": {},
   "source": [
    "**Теперь рассмотрим изменение конверсии на разных этапах воронки**"
   ]
  },
  {
   "cell_type": "code",
   "execution_count": 198,
   "id": "f204b6ce-b93f-41ca-adb6-5791fd2271bd",
   "metadata": {},
   "outputs": [],
   "source": [
    "# Создадим для двух групп отдельные таблицы\n",
    "funnel_a = df[df.group == 'A'].groupby('event_name', as_index = False).agg({'event_dt':'count','user_id':'nunique'})\n",
    "funnel_a.columns = ['event_name', 'event_count', 'unique_user']\n",
    "funnel_b = df[df.group == 'B'].groupby('event_name', as_index = False).agg({'event_dt':'count','user_id':'nunique'})\n",
    "funnel_b.columns = ['event_name', 'event_count', 'unique_user']\n",
    "\n",
    "# Введем порядок для этапов воронки\n",
    "order = ['login', 'product_page', 'product_cart', 'purchase']\n",
    "funnel_a['event_name'] = pd.Categorical(funnel_a['event_name'], categories = order, ordered = True)\n",
    "funnel_b['event_name'] = pd.Categorical(funnel_b['event_name'], categories = order, ordered = True)\n",
    "\n",
    "funnel_a = funnel_a.sort_values('event_name')\n",
    "funnel_b = funnel_b.sort_values('event_name')"
   ]
  },
  {
   "cell_type": "code",
   "execution_count": 199,
   "id": "d9057a69-f67d-4e01-b2cb-66c17a1eacc0",
   "metadata": {},
   "outputs": [
    {
     "data": {
      "text/html": [
       "<div>\n",
       "<style scoped>\n",
       "    .dataframe tbody tr th:only-of-type {\n",
       "        vertical-align: middle;\n",
       "    }\n",
       "\n",
       "    .dataframe tbody tr th {\n",
       "        vertical-align: top;\n",
       "    }\n",
       "\n",
       "    .dataframe thead th {\n",
       "        text-align: right;\n",
       "    }\n",
       "</style>\n",
       "<table border=\"1\" class=\"dataframe\">\n",
       "  <thead>\n",
       "    <tr style=\"text-align: right;\">\n",
       "      <th></th>\n",
       "      <th>event_name</th>\n",
       "      <th>event_count</th>\n",
       "      <th>unique_user</th>\n",
       "    </tr>\n",
       "  </thead>\n",
       "  <tbody>\n",
       "    <tr>\n",
       "      <th>0</th>\n",
       "      <td>login</td>\n",
       "      <td>8124</td>\n",
       "      <td>2604</td>\n",
       "    </tr>\n",
       "    <tr>\n",
       "      <th>2</th>\n",
       "      <td>product_page</td>\n",
       "      <td>5227</td>\n",
       "      <td>1685</td>\n",
       "    </tr>\n",
       "    <tr>\n",
       "      <th>1</th>\n",
       "      <td>product_cart</td>\n",
       "      <td>2422</td>\n",
       "      <td>782</td>\n",
       "    </tr>\n",
       "    <tr>\n",
       "      <th>3</th>\n",
       "      <td>purchase</td>\n",
       "      <td>2536</td>\n",
       "      <td>833</td>\n",
       "    </tr>\n",
       "  </tbody>\n",
       "</table>\n",
       "</div>"
      ],
      "text/plain": [
       "     event_name  event_count  unique_user\n",
       "0         login         8124         2604\n",
       "2  product_page         5227         1685\n",
       "1  product_cart         2422          782\n",
       "3      purchase         2536          833"
      ]
     },
     "execution_count": 199,
     "metadata": {},
     "output_type": "execute_result"
    }
   ],
   "source": [
    "funnel_a"
   ]
  },
  {
   "cell_type": "code",
   "execution_count": 200,
   "id": "6e4240c1-5261-4e57-9126-041fa30390f8",
   "metadata": {},
   "outputs": [
    {
     "data": {
      "text/html": [
       "<div>\n",
       "<style scoped>\n",
       "    .dataframe tbody tr th:only-of-type {\n",
       "        vertical-align: middle;\n",
       "    }\n",
       "\n",
       "    .dataframe tbody tr th {\n",
       "        vertical-align: top;\n",
       "    }\n",
       "\n",
       "    .dataframe thead th {\n",
       "        text-align: right;\n",
       "    }\n",
       "</style>\n",
       "<table border=\"1\" class=\"dataframe\">\n",
       "  <thead>\n",
       "    <tr style=\"text-align: right;\">\n",
       "      <th></th>\n",
       "      <th>event_name</th>\n",
       "      <th>event_count</th>\n",
       "      <th>unique_user</th>\n",
       "    </tr>\n",
       "  </thead>\n",
       "  <tbody>\n",
       "    <tr>\n",
       "      <th>0</th>\n",
       "      <td>login</td>\n",
       "      <td>2471</td>\n",
       "      <td>877</td>\n",
       "    </tr>\n",
       "    <tr>\n",
       "      <th>2</th>\n",
       "      <td>product_page</td>\n",
       "      <td>1327</td>\n",
       "      <td>493</td>\n",
       "    </tr>\n",
       "    <tr>\n",
       "      <th>1</th>\n",
       "      <td>product_cart</td>\n",
       "      <td>653</td>\n",
       "      <td>244</td>\n",
       "    </tr>\n",
       "    <tr>\n",
       "      <th>3</th>\n",
       "      <td>purchase</td>\n",
       "      <td>660</td>\n",
       "      <td>249</td>\n",
       "    </tr>\n",
       "  </tbody>\n",
       "</table>\n",
       "</div>"
      ],
      "text/plain": [
       "     event_name  event_count  unique_user\n",
       "0         login         2471          877\n",
       "2  product_page         1327          493\n",
       "1  product_cart          653          244\n",
       "3      purchase          660          249"
      ]
     },
     "execution_count": 200,
     "metadata": {},
     "output_type": "execute_result"
    }
   ],
   "source": [
    "funnel_b"
   ]
  },
  {
   "cell_type": "markdown",
   "id": "a53bdf47-cacb-4f68-a60f-a21805e10f95",
   "metadata": {},
   "source": [
    "Количество **уникальных пользователей** в группе B много меньше, чем в группе A, посмотрим сколько пользователей в двух группах были добавлены в тест, но ни разу не зашли на сайт"
   ]
  },
  {
   "cell_type": "code",
   "execution_count": 201,
   "id": "d431030e-2706-4882-aa6b-955b29bea1c9",
   "metadata": {},
   "outputs": [
    {
     "data": {
      "text/plain": [
       "group\n",
       "B    1840\n",
       "A    1030\n",
       "Name: count, dtype: int64"
      ]
     },
     "execution_count": 201,
     "metadata": {},
     "output_type": "execute_result"
    }
   ],
   "source": [
    "df[df.event_name.isna()].group.value_counts()"
   ]
  },
  {
   "cell_type": "markdown",
   "id": "1aa3172b-9501-4601-845f-b69d27948e4e",
   "metadata": {},
   "source": [
    "В нашем тесте в группу А попало больше пользователей чем в группу B, несмотря на это из группы B на сайт ни разу не зашло почти в два раза больше пользователей чем из группы A.\n",
    "\n",
    "Причиной этого могут быть технические проблемы, с которыми столкнулись только пользователи с новой платежной воронкой."
   ]
  },
  {
   "cell_type": "markdown",
   "id": "09fc077a-0afc-452a-a521-6470db8fea46",
   "metadata": {},
   "source": [
    "***\n",
    "Построим визуалиация для **воронки конверсии** для двух групп"
   ]
  },
  {
   "cell_type": "code",
   "execution_count": 207,
   "id": "cc90fa44-0ca6-4e1b-8a94-bf0a36db7080",
   "metadata": {},
   "outputs": [
    {
     "data": {
      "application/vnd.plotly.v1+json": {
       "config": {
        "plotlyServerURL": "https://plot.ly"
       },
       "data": [
        {
         "marker": {
          "color": "blue"
         },
         "name": "group A",
         "texttemplate": "%{value} (%{percentInitial:.1%})",
         "type": "funnel",
         "x": [
          2604,
          1685,
          782,
          833
         ],
         "y": [
          "login",
          "product_page",
          "product_cart",
          "purchase"
         ]
        },
        {
         "marker": {
          "color": "green"
         },
         "name": "group B",
         "texttemplate": "%{value} (%{percentInitial:.1%})",
         "type": "funnel",
         "x": [
          877,
          493,
          244,
          249
         ],
         "y": [
          "login",
          "product_page",
          "product_cart",
          "purchase"
         ]
        }
       ],
       "layout": {
        "autosize": true,
        "template": {
         "data": {
          "bar": [
           {
            "error_x": {
             "color": "#2a3f5f"
            },
            "error_y": {
             "color": "#2a3f5f"
            },
            "marker": {
             "line": {
              "color": "#E5ECF6",
              "width": 0.5
             },
             "pattern": {
              "fillmode": "overlay",
              "size": 10,
              "solidity": 0.2
             }
            },
            "type": "bar"
           }
          ],
          "barpolar": [
           {
            "marker": {
             "line": {
              "color": "#E5ECF6",
              "width": 0.5
             },
             "pattern": {
              "fillmode": "overlay",
              "size": 10,
              "solidity": 0.2
             }
            },
            "type": "barpolar"
           }
          ],
          "carpet": [
           {
            "aaxis": {
             "endlinecolor": "#2a3f5f",
             "gridcolor": "white",
             "linecolor": "white",
             "minorgridcolor": "white",
             "startlinecolor": "#2a3f5f"
            },
            "baxis": {
             "endlinecolor": "#2a3f5f",
             "gridcolor": "white",
             "linecolor": "white",
             "minorgridcolor": "white",
             "startlinecolor": "#2a3f5f"
            },
            "type": "carpet"
           }
          ],
          "choropleth": [
           {
            "colorbar": {
             "outlinewidth": 0,
             "ticks": ""
            },
            "type": "choropleth"
           }
          ],
          "contour": [
           {
            "colorbar": {
             "outlinewidth": 0,
             "ticks": ""
            },
            "colorscale": [
             [
              0,
              "#0d0887"
             ],
             [
              0.1111111111111111,
              "#46039f"
             ],
             [
              0.2222222222222222,
              "#7201a8"
             ],
             [
              0.3333333333333333,
              "#9c179e"
             ],
             [
              0.4444444444444444,
              "#bd3786"
             ],
             [
              0.5555555555555556,
              "#d8576b"
             ],
             [
              0.6666666666666666,
              "#ed7953"
             ],
             [
              0.7777777777777778,
              "#fb9f3a"
             ],
             [
              0.8888888888888888,
              "#fdca26"
             ],
             [
              1,
              "#f0f921"
             ]
            ],
            "type": "contour"
           }
          ],
          "contourcarpet": [
           {
            "colorbar": {
             "outlinewidth": 0,
             "ticks": ""
            },
            "type": "contourcarpet"
           }
          ],
          "heatmap": [
           {
            "colorbar": {
             "outlinewidth": 0,
             "ticks": ""
            },
            "colorscale": [
             [
              0,
              "#0d0887"
             ],
             [
              0.1111111111111111,
              "#46039f"
             ],
             [
              0.2222222222222222,
              "#7201a8"
             ],
             [
              0.3333333333333333,
              "#9c179e"
             ],
             [
              0.4444444444444444,
              "#bd3786"
             ],
             [
              0.5555555555555556,
              "#d8576b"
             ],
             [
              0.6666666666666666,
              "#ed7953"
             ],
             [
              0.7777777777777778,
              "#fb9f3a"
             ],
             [
              0.8888888888888888,
              "#fdca26"
             ],
             [
              1,
              "#f0f921"
             ]
            ],
            "type": "heatmap"
           }
          ],
          "heatmapgl": [
           {
            "colorbar": {
             "outlinewidth": 0,
             "ticks": ""
            },
            "colorscale": [
             [
              0,
              "#0d0887"
             ],
             [
              0.1111111111111111,
              "#46039f"
             ],
             [
              0.2222222222222222,
              "#7201a8"
             ],
             [
              0.3333333333333333,
              "#9c179e"
             ],
             [
              0.4444444444444444,
              "#bd3786"
             ],
             [
              0.5555555555555556,
              "#d8576b"
             ],
             [
              0.6666666666666666,
              "#ed7953"
             ],
             [
              0.7777777777777778,
              "#fb9f3a"
             ],
             [
              0.8888888888888888,
              "#fdca26"
             ],
             [
              1,
              "#f0f921"
             ]
            ],
            "type": "heatmapgl"
           }
          ],
          "histogram": [
           {
            "marker": {
             "pattern": {
              "fillmode": "overlay",
              "size": 10,
              "solidity": 0.2
             }
            },
            "type": "histogram"
           }
          ],
          "histogram2d": [
           {
            "colorbar": {
             "outlinewidth": 0,
             "ticks": ""
            },
            "colorscale": [
             [
              0,
              "#0d0887"
             ],
             [
              0.1111111111111111,
              "#46039f"
             ],
             [
              0.2222222222222222,
              "#7201a8"
             ],
             [
              0.3333333333333333,
              "#9c179e"
             ],
             [
              0.4444444444444444,
              "#bd3786"
             ],
             [
              0.5555555555555556,
              "#d8576b"
             ],
             [
              0.6666666666666666,
              "#ed7953"
             ],
             [
              0.7777777777777778,
              "#fb9f3a"
             ],
             [
              0.8888888888888888,
              "#fdca26"
             ],
             [
              1,
              "#f0f921"
             ]
            ],
            "type": "histogram2d"
           }
          ],
          "histogram2dcontour": [
           {
            "colorbar": {
             "outlinewidth": 0,
             "ticks": ""
            },
            "colorscale": [
             [
              0,
              "#0d0887"
             ],
             [
              0.1111111111111111,
              "#46039f"
             ],
             [
              0.2222222222222222,
              "#7201a8"
             ],
             [
              0.3333333333333333,
              "#9c179e"
             ],
             [
              0.4444444444444444,
              "#bd3786"
             ],
             [
              0.5555555555555556,
              "#d8576b"
             ],
             [
              0.6666666666666666,
              "#ed7953"
             ],
             [
              0.7777777777777778,
              "#fb9f3a"
             ],
             [
              0.8888888888888888,
              "#fdca26"
             ],
             [
              1,
              "#f0f921"
             ]
            ],
            "type": "histogram2dcontour"
           }
          ],
          "mesh3d": [
           {
            "colorbar": {
             "outlinewidth": 0,
             "ticks": ""
            },
            "type": "mesh3d"
           }
          ],
          "parcoords": [
           {
            "line": {
             "colorbar": {
              "outlinewidth": 0,
              "ticks": ""
             }
            },
            "type": "parcoords"
           }
          ],
          "pie": [
           {
            "automargin": true,
            "type": "pie"
           }
          ],
          "scatter": [
           {
            "fillpattern": {
             "fillmode": "overlay",
             "size": 10,
             "solidity": 0.2
            },
            "type": "scatter"
           }
          ],
          "scatter3d": [
           {
            "line": {
             "colorbar": {
              "outlinewidth": 0,
              "ticks": ""
             }
            },
            "marker": {
             "colorbar": {
              "outlinewidth": 0,
              "ticks": ""
             }
            },
            "type": "scatter3d"
           }
          ],
          "scattercarpet": [
           {
            "marker": {
             "colorbar": {
              "outlinewidth": 0,
              "ticks": ""
             }
            },
            "type": "scattercarpet"
           }
          ],
          "scattergeo": [
           {
            "marker": {
             "colorbar": {
              "outlinewidth": 0,
              "ticks": ""
             }
            },
            "type": "scattergeo"
           }
          ],
          "scattergl": [
           {
            "marker": {
             "colorbar": {
              "outlinewidth": 0,
              "ticks": ""
             }
            },
            "type": "scattergl"
           }
          ],
          "scattermapbox": [
           {
            "marker": {
             "colorbar": {
              "outlinewidth": 0,
              "ticks": ""
             }
            },
            "type": "scattermapbox"
           }
          ],
          "scatterpolar": [
           {
            "marker": {
             "colorbar": {
              "outlinewidth": 0,
              "ticks": ""
             }
            },
            "type": "scatterpolar"
           }
          ],
          "scatterpolargl": [
           {
            "marker": {
             "colorbar": {
              "outlinewidth": 0,
              "ticks": ""
             }
            },
            "type": "scatterpolargl"
           }
          ],
          "scatterternary": [
           {
            "marker": {
             "colorbar": {
              "outlinewidth": 0,
              "ticks": ""
             }
            },
            "type": "scatterternary"
           }
          ],
          "surface": [
           {
            "colorbar": {
             "outlinewidth": 0,
             "ticks": ""
            },
            "colorscale": [
             [
              0,
              "#0d0887"
             ],
             [
              0.1111111111111111,
              "#46039f"
             ],
             [
              0.2222222222222222,
              "#7201a8"
             ],
             [
              0.3333333333333333,
              "#9c179e"
             ],
             [
              0.4444444444444444,
              "#bd3786"
             ],
             [
              0.5555555555555556,
              "#d8576b"
             ],
             [
              0.6666666666666666,
              "#ed7953"
             ],
             [
              0.7777777777777778,
              "#fb9f3a"
             ],
             [
              0.8888888888888888,
              "#fdca26"
             ],
             [
              1,
              "#f0f921"
             ]
            ],
            "type": "surface"
           }
          ],
          "table": [
           {
            "cells": {
             "fill": {
              "color": "#EBF0F8"
             },
             "line": {
              "color": "white"
             }
            },
            "header": {
             "fill": {
              "color": "#C8D4E3"
             },
             "line": {
              "color": "white"
             }
            },
            "type": "table"
           }
          ]
         },
         "layout": {
          "annotationdefaults": {
           "arrowcolor": "#2a3f5f",
           "arrowhead": 0,
           "arrowwidth": 1
          },
          "autotypenumbers": "strict",
          "coloraxis": {
           "colorbar": {
            "outlinewidth": 0,
            "ticks": ""
           }
          },
          "colorscale": {
           "diverging": [
            [
             0,
             "#8e0152"
            ],
            [
             0.1,
             "#c51b7d"
            ],
            [
             0.2,
             "#de77ae"
            ],
            [
             0.3,
             "#f1b6da"
            ],
            [
             0.4,
             "#fde0ef"
            ],
            [
             0.5,
             "#f7f7f7"
            ],
            [
             0.6,
             "#e6f5d0"
            ],
            [
             0.7,
             "#b8e186"
            ],
            [
             0.8,
             "#7fbc41"
            ],
            [
             0.9,
             "#4d9221"
            ],
            [
             1,
             "#276419"
            ]
           ],
           "sequential": [
            [
             0,
             "#0d0887"
            ],
            [
             0.1111111111111111,
             "#46039f"
            ],
            [
             0.2222222222222222,
             "#7201a8"
            ],
            [
             0.3333333333333333,
             "#9c179e"
            ],
            [
             0.4444444444444444,
             "#bd3786"
            ],
            [
             0.5555555555555556,
             "#d8576b"
            ],
            [
             0.6666666666666666,
             "#ed7953"
            ],
            [
             0.7777777777777778,
             "#fb9f3a"
            ],
            [
             0.8888888888888888,
             "#fdca26"
            ],
            [
             1,
             "#f0f921"
            ]
           ],
           "sequentialminus": [
            [
             0,
             "#0d0887"
            ],
            [
             0.1111111111111111,
             "#46039f"
            ],
            [
             0.2222222222222222,
             "#7201a8"
            ],
            [
             0.3333333333333333,
             "#9c179e"
            ],
            [
             0.4444444444444444,
             "#bd3786"
            ],
            [
             0.5555555555555556,
             "#d8576b"
            ],
            [
             0.6666666666666666,
             "#ed7953"
            ],
            [
             0.7777777777777778,
             "#fb9f3a"
            ],
            [
             0.8888888888888888,
             "#fdca26"
            ],
            [
             1,
             "#f0f921"
            ]
           ]
          },
          "colorway": [
           "#636efa",
           "#EF553B",
           "#00cc96",
           "#ab63fa",
           "#FFA15A",
           "#19d3f3",
           "#FF6692",
           "#B6E880",
           "#FF97FF",
           "#FECB52"
          ],
          "font": {
           "color": "#2a3f5f"
          },
          "geo": {
           "bgcolor": "white",
           "lakecolor": "white",
           "landcolor": "#E5ECF6",
           "showlakes": true,
           "showland": true,
           "subunitcolor": "white"
          },
          "hoverlabel": {
           "align": "left"
          },
          "hovermode": "closest",
          "mapbox": {
           "style": "light"
          },
          "paper_bgcolor": "white",
          "plot_bgcolor": "#E5ECF6",
          "polar": {
           "angularaxis": {
            "gridcolor": "white",
            "linecolor": "white",
            "ticks": ""
           },
           "bgcolor": "#E5ECF6",
           "radialaxis": {
            "gridcolor": "white",
            "linecolor": "white",
            "ticks": ""
           }
          },
          "scene": {
           "xaxis": {
            "backgroundcolor": "#E5ECF6",
            "gridcolor": "white",
            "gridwidth": 2,
            "linecolor": "white",
            "showbackground": true,
            "ticks": "",
            "zerolinecolor": "white"
           },
           "yaxis": {
            "backgroundcolor": "#E5ECF6",
            "gridcolor": "white",
            "gridwidth": 2,
            "linecolor": "white",
            "showbackground": true,
            "ticks": "",
            "zerolinecolor": "white"
           },
           "zaxis": {
            "backgroundcolor": "#E5ECF6",
            "gridcolor": "white",
            "gridwidth": 2,
            "linecolor": "white",
            "showbackground": true,
            "ticks": "",
            "zerolinecolor": "white"
           }
          },
          "shapedefaults": {
           "line": {
            "color": "#2a3f5f"
           }
          },
          "ternary": {
           "aaxis": {
            "gridcolor": "white",
            "linecolor": "white",
            "ticks": ""
           },
           "baxis": {
            "gridcolor": "white",
            "linecolor": "white",
            "ticks": ""
           },
           "bgcolor": "#E5ECF6",
           "caxis": {
            "gridcolor": "white",
            "linecolor": "white",
            "ticks": ""
           }
          },
          "title": {
           "x": 0.05
          },
          "xaxis": {
           "automargin": true,
           "gridcolor": "white",
           "linecolor": "white",
           "ticks": "",
           "title": {
            "standoff": 15
           },
           "zerolinecolor": "white",
           "zerolinewidth": 2
          },
          "yaxis": {
           "automargin": true,
           "gridcolor": "white",
           "linecolor": "white",
           "ticks": "",
           "title": {
            "standoff": 15
           },
           "zerolinecolor": "white",
           "zerolinewidth": 2
          }
         }
        },
        "title": {
         "text": "Воронка конверсий"
        },
        "xaxis": {
         "autorange": true,
         "range": [
          -1933.888888888889,
          1933.888888888889
         ],
         "type": "linear"
        },
        "yaxis": {
         "autorange": true,
         "range": [
          3.5,
          -0.5
         ],
         "type": "category"
        }
       }
      },
      "image/png": "[encoded data removed]",
      "text/html": [
       "<div>                            <div id=\"9da7ad80-4692-4458-9efe-c3cb960ba41d\" class=\"plotly-graph-div\" style=\"height:700px; width:100%;\"></div>            <script type=\"text/javascript\">                require([\"plotly\"], function(Plotly) {                    window.PLOTLYENV=window.PLOTLYENV || {};                                    if (document.getElementById(\"9da7ad80-4692-4458-9efe-c3cb960ba41d\")) {                    Plotly.newPlot(                        \"9da7ad80-4692-4458-9efe-c3cb960ba41d\",                        [{\"marker\":{\"color\":\"blue\"},\"name\":\"group A\",\"texttemplate\":\"%{value} (%{percentInitial:.1%})\",\"x\":[2604,1685,782,833],\"y\":[\"login\",\"product_page\",\"product_cart\",\"purchase\"],\"type\":\"funnel\"},{\"marker\":{\"color\":\"green\"},\"name\":\"group B\",\"texttemplate\":\"%{value} (%{percentInitial:.1%})\",\"x\":[877,493,244,249],\"y\":[\"login\",\"product_page\",\"product_cart\",\"purchase\"],\"type\":\"funnel\"}],                        {\"template\":{\"data\":{\"histogram2dcontour\":[{\"type\":\"histogram2dcontour\",\"colorbar\":{\"outlinewidth\":0,\"ticks\":\"\"},\"colorscale\":[[0.0,\"#0d0887\"],[0.1111111111111111,\"#46039f\"],[0.2222222222222222,\"#7201a8\"],[0.3333333333333333,\"#9c179e\"],[0.4444444444444444,\"#bd3786\"],[0.5555555555555556,\"#d8576b\"],[0.6666666666666666,\"#ed7953\"],[0.7777777777777778,\"#fb9f3a\"],[0.8888888888888888,\"#fdca26\"],[1.0,\"#f0f921\"]]}],\"choropleth\":[{\"type\":\"choropleth\",\"colorbar\":{\"outlinewidth\":0,\"ticks\":\"\"}}],\"histogram2d\":[{\"type\":\"histogram2d\",\"colorbar\":{\"outlinewidth\":0,\"ticks\":\"\"},\"colorscale\":[[0.0,\"#0d0887\"],[0.1111111111111111,\"#46039f\"],[0.2222222222222222,\"#7201a8\"],[0.3333333333333333,\"#9c179e\"],[0.4444444444444444,\"#bd3786\"],[0.5555555555555556,\"#d8576b\"],[0.6666666666666666,\"#ed7953\"],[0.7777777777777778,\"#fb9f3a\"],[0.8888888888888888,\"#fdca26\"],[1.0,\"#f0f921\"]]}],\"heatmap\":[{\"type\":\"heatmap\",\"colorbar\":{\"outlinewidth\":0,\"ticks\":\"\"},\"colorscale\":[[0.0,\"#0d0887\"],[0.1111111111111111,\"#46039f\"],[0.2222222222222222,\"#7201a8\"],[0.3333333333333333,\"#9c179e\"],[0.4444444444444444,\"#bd3786\"],[0.5555555555555556,\"#d8576b\"],[0.6666666666666666,\"#ed7953\"],[0.7777777777777778,\"#fb9f3a\"],[0.8888888888888888,\"#fdca26\"],[1.0,\"#f0f921\"]]}],\"heatmapgl\":[{\"type\":\"heatmapgl\",\"colorbar\":{\"outlinewidth\":0,\"ticks\":\"\"},\"colorscale\":[[0.0,\"#0d0887\"],[0.1111111111111111,\"#46039f\"],[0.2222222222222222,\"#7201a8\"],[0.3333333333333333,\"#9c179e\"],[0.4444444444444444,\"#bd3786\"],[0.5555555555555556,\"#d8576b\"],[0.6666666666666666,\"#ed7953\"],[0.7777777777777778,\"#fb9f3a\"],[0.8888888888888888,\"#fdca26\"],[1.0,\"#f0f921\"]]}],\"contourcarpet\":[{\"type\":\"contourcarpet\",\"colorbar\":{\"outlinewidth\":0,\"ticks\":\"\"}}],\"contour\":[{\"type\":\"contour\",\"colorbar\":{\"outlinewidth\":0,\"ticks\":\"\"},\"colorscale\":[[0.0,\"#0d0887\"],[0.1111111111111111,\"#46039f\"],[0.2222222222222222,\"#7201a8\"],[0.3333333333333333,\"#9c179e\"],[0.4444444444444444,\"#bd3786\"],[0.5555555555555556,\"#d8576b\"],[0.6666666666666666,\"#ed7953\"],[0.7777777777777778,\"#fb9f3a\"],[0.8888888888888888,\"#fdca26\"],[1.0,\"#f0f921\"]]}],\"surface\":[{\"type\":\"surface\",\"colorbar\":{\"outlinewidth\":0,\"ticks\":\"\"},\"colorscale\":[[0.0,\"#0d0887\"],[0.1111111111111111,\"#46039f\"],[0.2222222222222222,\"#7201a8\"],[0.3333333333333333,\"#9c179e\"],[0.4444444444444444,\"#bd3786\"],[0.5555555555555556,\"#d8576b\"],[0.6666666666666666,\"#ed7953\"],[0.7777777777777778,\"#fb9f3a\"],[0.8888888888888888,\"#fdca26\"],[1.0,\"#f0f921\"]]}],\"mesh3d\":[{\"type\":\"mesh3d\",\"colorbar\":{\"outlinewidth\":0,\"ticks\":\"\"}}],\"scatter\":[{\"fillpattern\":{\"fillmode\":\"overlay\",\"size\":10,\"solidity\":0.2},\"type\":\"scatter\"}],\"parcoords\":[{\"type\":\"parcoords\",\"line\":{\"colorbar\":{\"outlinewidth\":0,\"ticks\":\"\"}}}],\"scatterpolargl\":[{\"type\":\"scatterpolargl\",\"marker\":{\"colorbar\":{\"outlinewidth\":0,\"ticks\":\"\"}}}],\"bar\":[{\"error_x\":{\"color\":\"#2a3f5f\"},\"error_y\":{\"color\":\"#2a3f5f\"},\"marker\":{\"line\":{\"color\":\"#E5ECF6\",\"width\":0.5},\"pattern\":{\"fillmode\":\"overlay\",\"size\":10,\"solidity\":0.2}},\"type\":\"bar\"}],\"scattergeo\":[{\"type\":\"scattergeo\",\"marker\":{\"colorbar\":{\"outlinewidth\":0,\"ticks\":\"\"}}}],\"scatterpolar\":[{\"type\":\"scatterpolar\",\"marker\":{\"colorbar\":{\"outlinewidth\":0,\"ticks\":\"\"}}}],\"histogram\":[{\"marker\":{\"pattern\":{\"fillmode\":\"overlay\",\"size\":10,\"solidity\":0.2}},\"type\":\"histogram\"}],\"scattergl\":[{\"type\":\"scattergl\",\"marker\":{\"colorbar\":{\"outlinewidth\":0,\"ticks\":\"\"}}}],\"scatter3d\":[{\"type\":\"scatter3d\",\"line\":{\"colorbar\":{\"outlinewidth\":0,\"ticks\":\"\"}},\"marker\":{\"colorbar\":{\"outlinewidth\":0,\"ticks\":\"\"}}}],\"scattermapbox\":[{\"type\":\"scattermapbox\",\"marker\":{\"colorbar\":{\"outlinewidth\":0,\"ticks\":\"\"}}}],\"scatterternary\":[{\"type\":\"scatterternary\",\"marker\":{\"colorbar\":{\"outlinewidth\":0,\"ticks\":\"\"}}}],\"scattercarpet\":[{\"type\":\"scattercarpet\",\"marker\":{\"colorbar\":{\"outlinewidth\":0,\"ticks\":\"\"}}}],\"carpet\":[{\"aaxis\":{\"endlinecolor\":\"#2a3f5f\",\"gridcolor\":\"white\",\"linecolor\":\"white\",\"minorgridcolor\":\"white\",\"startlinecolor\":\"#2a3f5f\"},\"baxis\":{\"endlinecolor\":\"#2a3f5f\",\"gridcolor\":\"white\",\"linecolor\":\"white\",\"minorgridcolor\":\"white\",\"startlinecolor\":\"#2a3f5f\"},\"type\":\"carpet\"}],\"table\":[{\"cells\":{\"fill\":{\"color\":\"#EBF0F8\"},\"line\":{\"color\":\"white\"}},\"header\":{\"fill\":{\"color\":\"#C8D4E3\"},\"line\":{\"color\":\"white\"}},\"type\":\"table\"}],\"barpolar\":[{\"marker\":{\"line\":{\"color\":\"#E5ECF6\",\"width\":0.5},\"pattern\":{\"fillmode\":\"overlay\",\"size\":10,\"solidity\":0.2}},\"type\":\"barpolar\"}],\"pie\":[{\"automargin\":true,\"type\":\"pie\"}]},\"layout\":{\"autotypenumbers\":\"strict\",\"colorway\":[\"#636efa\",\"#EF553B\",\"#00cc96\",\"#ab63fa\",\"#FFA15A\",\"#19d3f3\",\"#FF6692\",\"#B6E880\",\"#FF97FF\",\"#FECB52\"],\"font\":{\"color\":\"#2a3f5f\"},\"hovermode\":\"closest\",\"hoverlabel\":{\"align\":\"left\"},\"paper_bgcolor\":\"white\",\"plot_bgcolor\":\"#E5ECF6\",\"polar\":{\"bgcolor\":\"#E5ECF6\",\"angularaxis\":{\"gridcolor\":\"white\",\"linecolor\":\"white\",\"ticks\":\"\"},\"radialaxis\":{\"gridcolor\":\"white\",\"linecolor\":\"white\",\"ticks\":\"\"}},\"ternary\":{\"bgcolor\":\"#E5ECF6\",\"aaxis\":{\"gridcolor\":\"white\",\"linecolor\":\"white\",\"ticks\":\"\"},\"baxis\":{\"gridcolor\":\"white\",\"linecolor\":\"white\",\"ticks\":\"\"},\"caxis\":{\"gridcolor\":\"white\",\"linecolor\":\"white\",\"ticks\":\"\"}},\"coloraxis\":{\"colorbar\":{\"outlinewidth\":0,\"ticks\":\"\"}},\"colorscale\":{\"sequential\":[[0.0,\"#0d0887\"],[0.1111111111111111,\"#46039f\"],[0.2222222222222222,\"#7201a8\"],[0.3333333333333333,\"#9c179e\"],[0.4444444444444444,\"#bd3786\"],[0.5555555555555556,\"#d8576b\"],[0.6666666666666666,\"#ed7953\"],[0.7777777777777778,\"#fb9f3a\"],[0.8888888888888888,\"#fdca26\"],[1.0,\"#f0f921\"]],\"sequentialminus\":[[0.0,\"#0d0887\"],[0.1111111111111111,\"#46039f\"],[0.2222222222222222,\"#7201a8\"],[0.3333333333333333,\"#9c179e\"],[0.4444444444444444,\"#bd3786\"],[0.5555555555555556,\"#d8576b\"],[0.6666666666666666,\"#ed7953\"],[0.7777777777777778,\"#fb9f3a\"],[0.8888888888888888,\"#fdca26\"],[1.0,\"#f0f921\"]],\"diverging\":[[0,\"#8e0152\"],[0.1,\"#c51b7d\"],[0.2,\"#de77ae\"],[0.3,\"#f1b6da\"],[0.4,\"#fde0ef\"],[0.5,\"#f7f7f7\"],[0.6,\"#e6f5d0\"],[0.7,\"#b8e186\"],[0.8,\"#7fbc41\"],[0.9,\"#4d9221\"],[1,\"#276419\"]]},\"xaxis\":{\"gridcolor\":\"white\",\"linecolor\":\"white\",\"ticks\":\"\",\"title\":{\"standoff\":15},\"zerolinecolor\":\"white\",\"automargin\":true,\"zerolinewidth\":2},\"yaxis\":{\"gridcolor\":\"white\",\"linecolor\":\"white\",\"ticks\":\"\",\"title\":{\"standoff\":15},\"zerolinecolor\":\"white\",\"automargin\":true,\"zerolinewidth\":2},\"scene\":{\"xaxis\":{\"backgroundcolor\":\"#E5ECF6\",\"gridcolor\":\"white\",\"linecolor\":\"white\",\"showbackground\":true,\"ticks\":\"\",\"zerolinecolor\":\"white\",\"gridwidth\":2},\"yaxis\":{\"backgroundcolor\":\"#E5ECF6\",\"gridcolor\":\"white\",\"linecolor\":\"white\",\"showbackground\":true,\"ticks\":\"\",\"zerolinecolor\":\"white\",\"gridwidth\":2},\"zaxis\":{\"backgroundcolor\":\"#E5ECF6\",\"gridcolor\":\"white\",\"linecolor\":\"white\",\"showbackground\":true,\"ticks\":\"\",\"zerolinecolor\":\"white\",\"gridwidth\":2}},\"shapedefaults\":{\"line\":{\"color\":\"#2a3f5f\"}},\"annotationdefaults\":{\"arrowcolor\":\"#2a3f5f\",\"arrowhead\":0,\"arrowwidth\":1},\"geo\":{\"bgcolor\":\"white\",\"landcolor\":\"#E5ECF6\",\"subunitcolor\":\"white\",\"showland\":true,\"showlakes\":true,\"lakecolor\":\"white\"},\"title\":{\"x\":0.05},\"mapbox\":{\"style\":\"light\"}}},\"height\":700,\"title\":{\"text\":\"\\u0412\\u043e\\u0440\\u043e\\u043d\\u043a\\u0430 \\u043a\\u043e\\u043d\\u0432\\u0435\\u0440\\u0441\\u0438\\u0439\"}},                        {\"responsive\": true}                    ).then(function(){\n",
       "                            \n",
       "var gd = document.getElementById('9da7ad80-4692-4458-9efe-c3cb960ba41d');\n",
       "var x = new MutationObserver(function (mutations, observer) {{\n",
       "        var display = window.getComputedStyle(gd).display;\n",
       "        if (!display || display === 'none') {{\n",
       "            console.log([gd, 'removed!']);\n",
       "            Plotly.purge(gd);\n",
       "            observer.disconnect();\n",
       "        }}\n",
       "}});\n",
       "\n",
       "// Listen for the removal of the full notebook cells\n",
       "var notebookContainer = gd.closest('#notebook-container');\n",
       "if (notebookContainer) {{\n",
       "    x.observe(notebookContainer, {childList: true});\n",
       "}}\n",
       "\n",
       "// Listen for the clearing of the current output cell\n",
       "var outputEl = gd.closest('.output');\n",
       "if (outputEl) {{\n",
       "    x.observe(outputEl, {childList: true});\n",
       "}}\n",
       "\n",
       "                        })                };                });            </script>        </div>"
      ]
     },
     "metadata": {},
     "output_type": "display_data"
    }
   ],
   "source": [
    "fig = go.Figure()\n",
    "\n",
    "fig.add_trace(go.Funnel(\n",
    "    name = 'group A',\n",
    "    y = funnel_a.event_name,         # Этапы воронки\n",
    "    x = funnel_a.unique_user,       # Значения для группы A\n",
    "    texttemplate=\"%{value} (%{percentInitial:.1%})\",\n",
    "    marker = {\"color\": \"blue\"}  # Цвет для группы A\n",
    "))\n",
    "\n",
    "# Построение воронки для группы B\n",
    "fig.add_trace(go.Funnel(\n",
    "    name = 'group B',\n",
    "    y = funnel_b.event_name,         # Этапы воронки\n",
    "    x = funnel_b.unique_user,       # Значения для группы B\n",
    "    texttemplate=\"%{value} (%{percentInitial:.1%})\",\n",
    "    marker = {\"color\": \"green\"}  # Цвет для группы B\n",
    "))\n",
    "\n",
    "fig.update_layout(\n",
    "    height=700,  # Увеличиваем высоту графика\n",
    "    title=\"Воронка конверсий\"\n",
    ")"
   ]
  },
  {
   "cell_type": "markdown",
   "id": "057c667c-5b21-46e0-b8bf-883d2af3c967",
   "metadata": {},
   "source": [
    "<div style=\"border:solid black 4px; padding: 10px\">\n",
    "\n",
    "Мы более детально проанализировали данные и увидели:\n",
    "- Пользователи из двух групп **равномерно распределены** по дате добавления в тест\n",
    "- Пользователи из группы А совершали на сайте **большее** количество действий\n",
    "- Пользователи **равномерно распределены** по тому, с какого устройства они регистрировались\n",
    "- Количество действий совершаемое пользователями из группы А в один день начало сильно увеличиваться после 13 декабря, чего не было замечено за группой B\n",
    "- Группа А имеет **лучшие показатели конверсии** по сравнению с группой B на всех этапах воронки. По итогу до покупки в группе A дошло 32% пользователей, а в группе B 28%\n",
    "\n",
    "</div>"
   ]
  },
  {
   "cell_type": "markdown",
   "id": "bf679709-664e-4b35-85ce-ae53b1ff7086",
   "metadata": {},
   "source": [
    "## A/B тестирование"
   ]
  },
  {
   "cell_type": "markdown",
   "id": "8a71fd69-8f27-468d-a4dc-555a55c9e48e",
   "metadata": {},
   "source": [
    "Создадим сводную таблицу по конверсии пользователей"
   ]
  },
  {
   "cell_type": "code",
   "execution_count": 203,
   "id": "a74e526d-11ba-4463-b3a5-02525c81386c",
   "metadata": {},
   "outputs": [],
   "source": [
    "users_pivot = df.pivot_table(\n",
    "    index = 'event_name',\n",
    "    values = 'user_id',\n",
    "    columns = 'group',\n",
    "    aggfunc = lambda x: x.nunique()\n",
    ").reset_index()"
   ]
  },
  {
   "cell_type": "code",
   "execution_count": 204,
   "id": "fc3f0465-faaf-449c-a34e-91ed4efbd2ef",
   "metadata": {},
   "outputs": [
    {
     "data": {
      "text/html": [
       "<div>\n",
       "<style scoped>\n",
       "    .dataframe tbody tr th:only-of-type {\n",
       "        vertical-align: middle;\n",
       "    }\n",
       "\n",
       "    .dataframe tbody tr th {\n",
       "        vertical-align: top;\n",
       "    }\n",
       "\n",
       "    .dataframe thead th {\n",
       "        text-align: right;\n",
       "    }\n",
       "</style>\n",
       "<table border=\"1\" class=\"dataframe\">\n",
       "  <thead>\n",
       "    <tr style=\"text-align: right;\">\n",
       "      <th>group</th>\n",
       "      <th>event_name</th>\n",
       "      <th>A</th>\n",
       "      <th>B</th>\n",
       "    </tr>\n",
       "  </thead>\n",
       "  <tbody>\n",
       "    <tr>\n",
       "      <th>0</th>\n",
       "      <td>login</td>\n",
       "      <td>2604</td>\n",
       "      <td>877</td>\n",
       "    </tr>\n",
       "    <tr>\n",
       "      <th>2</th>\n",
       "      <td>product_page</td>\n",
       "      <td>1685</td>\n",
       "      <td>493</td>\n",
       "    </tr>\n",
       "    <tr>\n",
       "      <th>1</th>\n",
       "      <td>product_cart</td>\n",
       "      <td>782</td>\n",
       "      <td>244</td>\n",
       "    </tr>\n",
       "    <tr>\n",
       "      <th>3</th>\n",
       "      <td>purchase</td>\n",
       "      <td>833</td>\n",
       "      <td>249</td>\n",
       "    </tr>\n",
       "  </tbody>\n",
       "</table>\n",
       "</div>"
      ],
      "text/plain": [
       "group    event_name     A    B\n",
       "0             login  2604  877\n",
       "2      product_page  1685  493\n",
       "1      product_cart   782  244\n",
       "3          purchase   833  249"
      ]
     },
     "execution_count": 204,
     "metadata": {},
     "output_type": "execute_result"
    }
   ],
   "source": [
    "users_pivot['event_name'] = pd.Categorical(users_pivot['event_name'], categories = order, ordered = True)\n",
    "users_pivot = users_pivot.sort_values('event_name')\n",
    "users_pivot"
   ]
  },
  {
   "cell_type": "markdown",
   "id": "7a5e4ac3-7d05-4d9d-a031-128b3f1bba7a",
   "metadata": {},
   "source": [
    "### Проверка гипотез о равенстве конверсий с помощью z-теста\n",
    "Проведем сравнение конверсии для всех этапов воронки для двух групп\n",
    "\n",
    "**Нулевая гипотеза:** Конверсии в двух группах равны <br>\n",
    "**Альтернативная гипотеза:** Конверсия для группы B выше\n",
    "\n",
    "Здесь мы рассматриваем одностороннюю гипотезу, так как нам не важно если конверсия в группе A по итогу выше больше конверсии группы B <br>\n",
    "**Уровень значимость alpha:** Так как мы проверяем в одном тесте не одну, а сразу три гипотезу, то стоит использовать поправку Бонферонни. Итоговый уровень значимости будет **0.05/3**"
   ]
  },
  {
   "cell_type": "code",
   "execution_count": 205,
   "id": "db52ebbb-3c45-4c10-a7bd-0f501360ebfa",
   "metadata": {},
   "outputs": [],
   "source": [
    "# Функция для проверки гипотезы о равенстве дисперсий\n",
    "def check_hypo(pivot_table, first_event, second_event, alpha):\n",
    "    print(f'Проверяем гипотезу о равенстве конверсий на этапе воронки \\033[1m{first_event} - {second_event}\\033[0m')\n",
    "    \n",
    "    total = [\n",
    "        users_pivot[(users_pivot.event_name == first_event)].iloc[0, 1] + users_pivot[(users_pivot.event_name == second_event)].iloc[0, 1],\n",
    "        users_pivot[(users_pivot.event_name == first_event)].iloc[0, 2] + users_pivot[(users_pivot.event_name == second_event)].iloc[0, 2]\n",
    "    ]\n",
    "    \n",
    "    succ = [\n",
    "        users_pivot[(users_pivot.event_name == second_event)].iloc[0, 1],\n",
    "        users_pivot[(users_pivot.event_name == second_event)].iloc[0, 2]\n",
    "    ]\n",
    "    p_val = proportions_ztest(succ, total, value = 0, alternative = 'smaller')[1]\n",
    "\n",
    "    if p_val < alpha:\n",
    "        print(f'Мы \\033[1mотвергаем\\033[0m гипотезу о равенстве долей, так как p-value:{p_val} < уровня значимость alpha \\n')\n",
    "    else:\n",
    "        print(f'Мы \\033[1mне можем отвергнуть\\033[0m нулевую гипотезу о равенстве средних, так как p-value:{p_val} > уровня значимость alpha \\n')"
   ]
  },
  {
   "cell_type": "code",
   "execution_count": 206,
   "id": "96898065-4411-4f2f-b4ed-637478299b43",
   "metadata": {},
   "outputs": [
    {
     "name": "stdout",
     "output_type": "stream",
     "text": [
      "Проверяем гипотезу о равенстве конверсий на этапе воронки \u001b[1mlogin - product_page\u001b[0m\n",
      "Мы \u001b[1mне можем отвергнуть\u001b[0m нулевую гипотезу о равенстве средних, так как p-value:0.9855998769717249 > уровня значимость alpha \n",
      "\n",
      "Проверяем гипотезу о равенстве конверсий на этапе воронки \u001b[1mproduct_page - product_cart\u001b[0m\n",
      "Мы \u001b[1mне можем отвергнуть\u001b[0m нулевую гипотезу о равенстве средних, так как p-value:0.2359817914078255 > уровня значимость alpha \n",
      "\n",
      "Проверяем гипотезу о равенстве конверсий на этапе воронки \u001b[1mproduct_cart - purchase\u001b[0m\n",
      "Мы \u001b[1mне можем отвергнуть\u001b[0m нулевую гипотезу о равенстве средних, так как p-value:0.6615747309627917 > уровня значимость alpha \n",
      "\n"
     ]
    }
   ],
   "source": [
    "for i in range(3):\n",
    "    first_event = order[i]\n",
    "    second_event = order[i+1]\n",
    "    check_hypo(users_pivot, first_event, second_event, alpha = 0.05/3)"
   ]
  },
  {
   "cell_type": "markdown",
   "id": "01c48162-11cf-4047-8e7c-f26470fa7dab",
   "metadata": {},
   "source": [
    "Как мы видим ни одна из гипотез о равенстве средних с односторонней альтернативой мы не отвергаем. <br>\n",
    "Мы можем сделать вывод, что новая платежная воронка не продемонстрировала значимого улучшения на уровне значимости **0.05/3**"
   ]
  },
  {
   "cell_type": "markdown",
   "id": "c711407a-395a-46cb-b9d0-d4b8eeac1b87",
   "metadata": {},
   "source": [
    "## Общие выводы"
   ]
  },
  {
   "cell_type": "markdown",
   "id": "13f0626e-7757-4852-8487-0ecb335e59fa",
   "metadata": {},
   "source": [
    "<div style=\"border:solid black 4px; padding: 10px\">\n",
    "\n",
    "Анализ результатов проведенного A/B тестирования показывает **отсутствие статистически значимой разницы** между конверсией в двух группах на каждом этапе воронки.\n",
    "\n",
    "**Особенности данных:**\n",
    "- Количество пользователей в двух группах разное: 3634 попало в группу А и 2717 в группу B.\n",
    "- Из тех пользователей, что попали в тестирование только **71%** взаимодействовали с сайтом для группы А и **лишь 32%** для группы B. Это может указывать на некорректность распределения пользователей по выборкам. В группе А пользователи были намного активнее.\n",
    "- В каждый день теста кроме первого количество действий пользователей группы А превышало количество действий пользователей из группы B. В частности 21 декабря, пользователи из группы А произвели на сайте в 4.7 раз больше операций.\n",
    "\n",
    "**Итоговые значения конверсий:** <br>\n",
    "Группа А: product_page (64.7%), product_cart(30.0%), purchase(32.0%) <br>\n",
    "Группа B: product_page (56.2%), product_cart(27.8%), purchase(28.4%) <br>\n",
    "\n",
    "Проведя тест, можно сказать что старая модель платежной воронки оказалась лучше. Однако в тесте замечаны особенности, из-за которых его можно считать некорректным.\n",
    "\n",
    "</div>"
   ]
  }
 ],
 "metadata": {
  "kernelspec": {
   "display_name": "Python 3 (ipykernel)",
   "language": "python",
   "name": "python3"
  },
  "language_info": {
   "codemirror_mode": {
    "name": "ipython",
    "version": 3
   },
   "file_extension": ".py",
   "mimetype": "text/x-python",
   "name": "python",
   "nbconvert_exporter": "python",
   "pygments_lexer": "ipython3",
   "version": "3.12.4"
  }
 },
 "nbformat": 4,
 "nbformat_minor": 5
}
